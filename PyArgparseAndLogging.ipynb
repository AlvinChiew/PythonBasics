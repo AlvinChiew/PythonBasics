{
  "nbformat": 4,
  "nbformat_minor": 0,
  "metadata": {
    "colab": {
      "name": "PyArgparseAndLogging.ipynb",
      "provenance": [],
      "collapsed_sections": [],
      "authorship_tag": "ABX9TyNxSjMihdTIRyvVJidh2Pln"
    },
    "kernelspec": {
      "name": "python3",
      "display_name": "Python 3"
    },
    "language_info": {
      "name": "python"
    }
  },
  "cells": [
    {
      "cell_type": "markdown",
      "metadata": {
        "id": "XEdtkMR0zMJG"
      },
      "source": [
        "# Logging in Python\n",
        "\n",
        "**DEBUG**: Detailed information, typically of interest only when diagnosing problems.\n",
        "\n",
        "**INFO**: Confirmation that things are working as expected.\n",
        "\n",
        "**WARNING**: An indication that something unexpected happened, or indicative of some problem in the near future (e.g. ‘disk space low’). The software is still working as expected.\n",
        "\n",
        "**ERROR**: Due to a more serious problem, the software has not been able to perform some function.\n",
        "\n",
        "**CRITICAL**: A serious error, indicating that the program itself may be unable to continue running."
      ]
    },
    {
      "cell_type": "code",
      "metadata": {
        "colab": {
          "base_uri": "https://localhost:8080/"
        },
        "id": "punFtTXyyyJC",
        "outputId": "bdaf20dc-2f92-494a-be67-8bf75ef7a906"
      },
      "source": [
        "%%writefile calc.py\n",
        "import time\n",
        "import logging\n",
        "import argparse\n",
        "\n",
        "logger = logging.getLogger(__name__)\n",
        "logger.propagate = False\n",
        "\n",
        "formatter = logging.Formatter('%(asctime)s - %(levelname)s : %(message)s')\n",
        "\n",
        "file_handler = logging.FileHandler('log.txt', mode='w')\n",
        "file_handler.setFormatter(formatter)\n",
        "logger.addHandler(file_handler)\n",
        "\n",
        "stream_handler = logging.StreamHandler()    # add log to console too\n",
        "stream_handler.setFormatter(formatter)\n",
        "logger.addHandler(stream_handler)\n",
        "# log_suffix = time.strftime(\"%Y%m%d%H%M%S\")\n",
        "# logging.basicConfig(filename='log_' + log_suffix + '.txt', level=logging.INFO)\n",
        "# logging.basicConfig(filename='log.txt', filemode=\"w\", format='%(asctime)s - %(levelname)s : %(message)s')\n",
        "\n",
        "\n",
        "def parse_opt():\n",
        "    log_level = ['DEBUG', 'INFO', 'WARNING', 'ERROR', 'CRITICAL']\n",
        "    \n",
        "    parser = argparse.ArgumentParser()\n",
        "    parser.add_argument(\"x_y\", type=int, nargs=2, metavar='num', help=\"Number to be calculated\")\n",
        "    parser.add_argument(\"-n\", \"--name\", type=str, default='Martin Lee', help=\"recipient name for mock result delivery\")\n",
        "    parser.add_argument(\"-ll\", \"--log_level\", type=str, default='DEBUG', choices=log_level, help=\"accepted log level\")\n",
        "    parser.add_argument(\"-a\", \"--add\", action=\"store_true\", help=\"perform numeric addition\")\n",
        "    parser.add_argument(\"-s\", \"--subtract\", action=\"store_true\", help=\"perform numeric subtraction\")\n",
        "    parser.add_argument(\"-m\", \"--multiply\", action=\"store_true\", help=\"perform numeric multiplication\")\n",
        "    parser.add_argument(\"-d\", \"--divide\", action=\"store_true\", help=\"perform numeric division\")\n",
        "    parser.add_argument(\"-v\", \"--verbose\", action=\"store_true\", help=\"increase output verbosity\")\n",
        "    parser.add_argument(\"--debug\", action=\"store_true\", help=\"log debug output\")\n",
        "    args = parser.parse_args()\n",
        "    return args\n",
        "\n",
        "\n",
        "class Calculator():\n",
        "    \n",
        "    def __init__(self, x, y, name):\n",
        "        self.x = x\n",
        "        self.y = y\n",
        "        self.name = name\n",
        "\n",
        "        logging.info(\"New calculation job is created\")\n",
        "\n",
        "    @property\n",
        "    def email(self):\n",
        "        return f\"{self.name.replace(' ', '_')}@gmail.com\"\n",
        "\n",
        "    def add(self):\n",
        "        return self.x + self.y\n",
        "\n",
        "\n",
        "    def subtract(self):\n",
        "        return self.x - self.y\n",
        "\n",
        "\n",
        "    def multiply(self):\n",
        "        return self.x * self.y\n",
        "\n",
        "\n",
        "    def divide(self):\n",
        "        return self.x / self.y\n",
        "\n",
        "\n",
        "def main(args):\n",
        "\n",
        "    logger.setLevel(getattr(logging, args.log_level))\n",
        "\n",
        "    if args.debug:\n",
        "        logger.setLevel(logging.DEBUG)\n",
        "\n",
        "    calc = Calculator(*args.x_y, args.name)\n",
        "\n",
        "    if args.verbose:\n",
        "        logger.info(\"... Extra info to be logged...\")\n",
        "\n",
        "    logger.debug(f\"input numbers are {calc.x} and {calc.y}\")\n",
        "\n",
        "    if args.add:\n",
        "        logger.info(f\"`add` resultis {str(calc.add())}\")\n",
        "\n",
        "    if args.subtract:\n",
        "        logger.info(f\"`subtract` result is {str(calc.subtract())}\")\n",
        "\n",
        "    if args.multiply:\n",
        "        logger.info(f\"`multiply` result is {str(calc.multiply())}\")\n",
        "\n",
        "    if args.divide:\n",
        "        try:\n",
        "            r = calc.divide()\n",
        "        except ZeroDivisionError as e:\n",
        "            logger.error('Second input number cannot be zero')\n",
        "        except Exception as e:\n",
        "            logger.error(e)\n",
        "        else:\n",
        "            logger.info(f\"`divide` result is {str(r)}\")\n",
        "\n",
        "    logger.info(f\"result(s) is sent to {calc.email}\")\n",
        "\n",
        "\n",
        "if __name__ == \"__main__\":\n",
        "\n",
        "    opt = parse_opt()\n",
        "    main(opt)\n",
        "\n",
        "    logger.warning(\"test warning log\")\n",
        "    logger.error(\"test error log\")\n",
        "    logger.critical(\"test critical log\")\n",
        "    logger.info(\"test info log\")\n",
        "    logger.debug(\"test debug log\")"
      ],
      "execution_count": 214,
      "outputs": [
        {
          "output_type": "stream",
          "text": [
            "Overwriting calc.py\n"
          ],
          "name": "stdout"
        }
      ]
    },
    {
      "cell_type": "code",
      "metadata": {
        "colab": {
          "base_uri": "https://localhost:8080/"
        },
        "id": "EiR-cWDy44ax",
        "outputId": "b235a59c-e284-4525-8829-be4297247dbd"
      },
      "source": [
        " !python calc.py -h"
      ],
      "execution_count": 176,
      "outputs": [
        {
          "output_type": "stream",
          "text": [
            "usage: calc.py [-h] [-n NAME] [-ll {DEBUG,INFO,WARNING,ERROR,CRITICAL}] [-a]\n",
            "               [-s] [-m] [-d] [-v] [--debug]\n",
            "               num num\n",
            "\n",
            "positional arguments:\n",
            "  num                   Number to be calculated\n",
            "\n",
            "optional arguments:\n",
            "  -h, --help            show this help message and exit\n",
            "  -n NAME, --name NAME  recipient name for mock result delivery\n",
            "  -ll {DEBUG,INFO,WARNING,ERROR,CRITICAL}, --log_level {DEBUG,INFO,WARNING,ERROR,CRITICAL}\n",
            "                        accepted log level\n",
            "  -a, --add             perform numeric addition\n",
            "  -s, --subtract        perform numeric subtraction\n",
            "  -m, --multiply        perform numeric multiplication\n",
            "  -d, --divide          perform numeric division\n",
            "  -v, --verbose         increase output verbosity\n",
            "  --debug               log debug output\n"
          ],
          "name": "stdout"
        }
      ]
    },
    {
      "cell_type": "code",
      "metadata": {
        "colab": {
          "base_uri": "https://localhost:8080/"
        },
        "id": "LwF7aCtsyTPW",
        "outputId": "51212ceb-1c60-40a2-c20a-a1488e8ef101"
      },
      "source": [
        "!python calc.py -asmdv 5 0 -n \"Jason Chan\" -ll ERROR\n",
        "print(\"\\n\\n\\n##### LOG FILE #####\")\n",
        "!cat log.txt"
      ],
      "execution_count": 215,
      "outputs": [
        {
          "output_type": "stream",
          "text": [
            "2021-07-26 12:57:05,785 - ERROR : infinity due to division by zero\n",
            "2021-07-26 12:57:05,785 - ERROR : test error log\n",
            "2021-07-26 12:57:05,785 - CRITICAL : test critical log\n",
            "\n",
            "\n",
            "\n",
            "##### LOG FILE #####\n",
            "2021-07-26 12:57:05,785 - ERROR : infinity due to division by zero\n",
            "2021-07-26 12:57:05,785 - ERROR : test error log\n",
            "2021-07-26 12:57:05,785 - CRITICAL : test critical log\n"
          ],
          "name": "stdout"
        }
      ]
    },
    {
      "cell_type": "code",
      "metadata": {
        "colab": {
          "base_uri": "https://localhost:8080/"
        },
        "id": "ZAO_cbskW_R1",
        "outputId": "447791fd-cab8-4c13-a209-cd743ad3f17d"
      },
      "source": [
        "!python calc.py -asmdv 5 0 -n \"Jason Chan\" -ll DEBUG\n",
        "print(\"\\n\\n\\n##### LOG FILE #####\")\n",
        "!cat log.txt"
      ],
      "execution_count": 216,
      "outputs": [
        {
          "output_type": "stream",
          "text": [
            "2021-07-26 12:57:11,624 - INFO : ... Extra info to be logged...\n",
            "2021-07-26 12:57:11,624 - DEBUG : input numbers are 5 and 0\n",
            "2021-07-26 12:57:11,625 - INFO : `add` resultis 5\n",
            "2021-07-26 12:57:11,625 - INFO : `subtract` result is 5\n",
            "2021-07-26 12:57:11,625 - INFO : `multiply` result is 0\n",
            "2021-07-26 12:57:11,625 - ERROR : infinity due to division by zero\n",
            "2021-07-26 12:57:11,625 - INFO : result(s) is sent to Jason_Chan@gmail.com\n",
            "2021-07-26 12:57:11,625 - WARNING : test warning log\n",
            "2021-07-26 12:57:11,625 - ERROR : test error log\n",
            "2021-07-26 12:57:11,625 - CRITICAL : test critical log\n",
            "2021-07-26 12:57:11,625 - INFO : test info log\n",
            "2021-07-26 12:57:11,625 - DEBUG : test debug log\n",
            "\n",
            "\n",
            "\n",
            "##### LOG FILE #####\n",
            "2021-07-26 12:57:11,624 - INFO : ... Extra info to be logged...\n",
            "2021-07-26 12:57:11,624 - DEBUG : input numbers are 5 and 0\n",
            "2021-07-26 12:57:11,625 - INFO : `add` resultis 5\n",
            "2021-07-26 12:57:11,625 - INFO : `subtract` result is 5\n",
            "2021-07-26 12:57:11,625 - INFO : `multiply` result is 0\n",
            "2021-07-26 12:57:11,625 - ERROR : infinity due to division by zero\n",
            "2021-07-26 12:57:11,625 - INFO : result(s) is sent to Jason_Chan@gmail.com\n",
            "2021-07-26 12:57:11,625 - WARNING : test warning log\n",
            "2021-07-26 12:57:11,625 - ERROR : test error log\n",
            "2021-07-26 12:57:11,625 - CRITICAL : test critical log\n",
            "2021-07-26 12:57:11,625 - INFO : test info log\n",
            "2021-07-26 12:57:11,625 - DEBUG : test debug log\n"
          ],
          "name": "stdout"
        }
      ]
    },
    {
      "cell_type": "code",
      "metadata": {
        "colab": {
          "base_uri": "https://localhost:8080/"
        },
        "id": "D7EnynGU3Lr6",
        "outputId": "9474d1e8-4dee-4ba4-f069-d7175a810c90"
      },
      "source": [
        "!python calc.py -asmdv 3 7 -n \"Jason Chan\" -ll DEBUG\n",
        "print(\"\\n\\n\\n##### LOG FILE #####\")\n",
        "!cat log.txt"
      ],
      "execution_count": 217,
      "outputs": [
        {
          "output_type": "stream",
          "text": [
            "2021-07-26 12:57:14,981 - INFO : ... Extra info to be logged...\n",
            "2021-07-26 12:57:14,981 - DEBUG : input numbers are 3 and 7\n",
            "2021-07-26 12:57:14,981 - INFO : `add` resultis 10\n",
            "2021-07-26 12:57:14,981 - INFO : `subtract` result is -4\n",
            "2021-07-26 12:57:14,982 - INFO : `multiply` result is 21\n",
            "2021-07-26 12:57:14,982 - INFO : `divide` result is 0.42857142857142855\n",
            "2021-07-26 12:57:14,982 - INFO : result(s) is sent to Jason_Chan@gmail.com\n",
            "2021-07-26 12:57:14,982 - WARNING : test warning log\n",
            "2021-07-26 12:57:14,982 - ERROR : test error log\n",
            "2021-07-26 12:57:14,982 - CRITICAL : test critical log\n",
            "2021-07-26 12:57:14,982 - INFO : test info log\n",
            "2021-07-26 12:57:14,982 - DEBUG : test debug log\n",
            "\n",
            "\n",
            "\n",
            "##### LOG FILE #####\n",
            "2021-07-26 12:57:14,981 - INFO : ... Extra info to be logged...\n",
            "2021-07-26 12:57:14,981 - DEBUG : input numbers are 3 and 7\n",
            "2021-07-26 12:57:14,981 - INFO : `add` resultis 10\n",
            "2021-07-26 12:57:14,981 - INFO : `subtract` result is -4\n",
            "2021-07-26 12:57:14,982 - INFO : `multiply` result is 21\n",
            "2021-07-26 12:57:14,982 - INFO : `divide` result is 0.42857142857142855\n",
            "2021-07-26 12:57:14,982 - INFO : result(s) is sent to Jason_Chan@gmail.com\n",
            "2021-07-26 12:57:14,982 - WARNING : test warning log\n",
            "2021-07-26 12:57:14,982 - ERROR : test error log\n",
            "2021-07-26 12:57:14,982 - CRITICAL : test critical log\n",
            "2021-07-26 12:57:14,982 - INFO : test info log\n",
            "2021-07-26 12:57:14,982 - DEBUG : test debug log\n"
          ],
          "name": "stdout"
        }
      ]
    }
  ]
}
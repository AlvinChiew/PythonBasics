{
  "nbformat": 4,
  "nbformat_minor": 0,
  "metadata": {
    "colab": {
      "name": "PyDataClasses_Pydantic.ipynb",
      "provenance": [],
      "collapsed_sections": [],
      "authorship_tag": "ABX9TyOu0EzrddTFaubqe9F7nI5F",
      "include_colab_link": true
    },
    "kernelspec": {
      "name": "python3",
      "display_name": "Python 3"
    }
  },
  "cells": [
    {
      "cell_type": "markdown",
      "metadata": {
        "id": "view-in-github",
        "colab_type": "text"
      },
      "source": [
        "<a href=\"https://colab.research.google.com/github/AlvinChiew/PythonBasics/blob/main/PyDataClasses_Pydantic.ipynb\" target=\"_parent\"><img src=\"https://colab.research.google.com/assets/colab-badge.svg\" alt=\"Open In Colab\"/></a>"
      ]
    },
    {
      "cell_type": "markdown",
      "metadata": {
        "id": "gflQ0Ua_QpKl"
      },
      "source": [
        "<b>Objective</b> : use Pydantic to validate selection defined by data classes\r\n",
        "\r\n",
        "* Pydantic will prompt error when object has attribute not in predefined options"
      ]
    },
    {
      "cell_type": "markdown",
      "metadata": {
        "id": "M97cQLjoUoAG"
      },
      "source": [
        "# Imports & Classes"
      ]
    },
    {
      "cell_type": "code",
      "metadata": {
        "colab": {
          "base_uri": "https://localhost:8080/"
        },
        "id": "vZzK4fW-RGFy",
        "outputId": "371c3e5b-0fd9-4a48-b43d-71bde5fa877b"
      },
      "source": [
        "!pip install pydantic"
      ],
      "execution_count": 1,
      "outputs": [
        {
          "output_type": "stream",
          "text": [
            "Collecting pydantic\n",
            "\u001b[?25l  Downloading https://files.pythonhosted.org/packages/52/ea/fae9f69b6e56407961318e8c73e203097a97c7bd71b30bf1b4f5eb448f28/pydantic-1.7.3-cp36-cp36m-manylinux2014_x86_64.whl (9.2MB)\n",
            "\u001b[K     |████████████████████████████████| 9.2MB 5.2MB/s \n",
            "\u001b[?25hRequirement already satisfied: dataclasses>=0.6; python_version < \"3.7\" in /usr/local/lib/python3.6/dist-packages (from pydantic) (0.8)\n",
            "Installing collected packages: pydantic\n",
            "Successfully installed pydantic-1.7.3\n"
          ],
          "name": "stdout"
        }
      ]
    },
    {
      "cell_type": "code",
      "metadata": {
        "id": "pQO_Po9BRx9d"
      },
      "source": [
        "from typing import Tuple\r\n",
        "from enum import Enum "
      ],
      "execution_count": 2,
      "outputs": []
    },
    {
      "cell_type": "code",
      "metadata": {
        "id": "_yQVa3SbPGbF"
      },
      "source": [
        "class Flavor(str, Enum):\r\n",
        "    chocolate = 'chocolate'\r\n",
        "    vanilla = 'vanilla'\r\n",
        "    mint = 'mint'\r\n",
        "    mocha = 'mocha'\r\n",
        "\r\n",
        "class Topping(str, Enum):\r\n",
        "    sprinkles = 'sprinkles'\r\n",
        "    chocolate_chips = 'chocolate chips'\r\n",
        "    whipped_cream = 'whipped cream'\r\n",
        "    cookies = 'cookies'\r\n",
        "    hot_fudge = 'hot fudge'"
      ],
      "execution_count": 3,
      "outputs": []
    },
    {
      "cell_type": "markdown",
      "metadata": {
        "id": "OBR0QhFQRzuP"
      },
      "source": [
        "# Model : dataclass"
      ]
    },
    {
      "cell_type": "code",
      "metadata": {
        "id": "RbWGZimsMyq9"
      },
      "source": [
        "from pydantic.dataclasses import dataclass"
      ],
      "execution_count": 4,
      "outputs": []
    },
    {
      "cell_type": "code",
      "metadata": {
        "id": "FEFxs9rEM-Av"
      },
      "source": [
        "@dataclass  # decorator\r\n",
        "class IceCreamMix:\r\n",
        "    name: str\r\n",
        "    flavor: Flavor\r\n",
        "    toppings: Tuple[Topping, ...]\r\n",
        "    scoops: int"
      ],
      "execution_count": 5,
      "outputs": []
    },
    {
      "cell_type": "markdown",
      "metadata": {
        "id": "02Z2djibT2Dc"
      },
      "source": [
        "## Invalid Attribute"
      ]
    },
    {
      "cell_type": "code",
      "metadata": {
        "colab": {
          "base_uri": "https://localhost:8080/",
          "height": 357
        },
        "id": "rwqamorFOCHN",
        "outputId": "76db19a9-2dd3-4c89-b8a8-e428de9662f4"
      },
      "source": [
        "### Validation will prompt invalid value which falls out of defined class ###\r\n",
        "\r\n",
        "def with_invalid_topping(): \r\n",
        "    ice_cream_mix = IceCreamMix(\r\n",
        "        \"Best Seller\",\r\n",
        "        Flavor.mocha,\r\n",
        "        (Topping.sprinkles, 'InvalidTopping'),\r\n",
        "        2\r\n",
        "    )\r\n",
        "    print(ice_cream_mix)\r\n",
        "\r\n",
        "with_invalid_topping()"
      ],
      "execution_count": 6,
      "outputs": [
        {
          "output_type": "error",
          "ename": "ValidationError",
          "evalue": "ignored",
          "traceback": [
            "\u001b[0;31m---------------------------------------------------------------------------\u001b[0m",
            "\u001b[0;31mValidationError\u001b[0m                           Traceback (most recent call last)",
            "\u001b[0;32m<ipython-input-6-a47b9803a25a>\u001b[0m in \u001b[0;36m<module>\u001b[0;34m()\u001b[0m\n\u001b[1;32m     10\u001b[0m     \u001b[0mprint\u001b[0m\u001b[0;34m(\u001b[0m\u001b[0mice_cream_mix\u001b[0m\u001b[0;34m)\u001b[0m\u001b[0;34m\u001b[0m\u001b[0;34m\u001b[0m\u001b[0m\n\u001b[1;32m     11\u001b[0m \u001b[0;34m\u001b[0m\u001b[0m\n\u001b[0;32m---> 12\u001b[0;31m \u001b[0mwith_invalid_topping\u001b[0m\u001b[0;34m(\u001b[0m\u001b[0;34m)\u001b[0m\u001b[0;34m\u001b[0m\u001b[0;34m\u001b[0m\u001b[0m\n\u001b[0m",
            "\u001b[0;32m<ipython-input-6-a47b9803a25a>\u001b[0m in \u001b[0;36mwith_invalid_topping\u001b[0;34m()\u001b[0m\n\u001b[1;32m      6\u001b[0m         \u001b[0mFlavor\u001b[0m\u001b[0;34m.\u001b[0m\u001b[0mmocha\u001b[0m\u001b[0;34m,\u001b[0m\u001b[0;34m\u001b[0m\u001b[0;34m\u001b[0m\u001b[0m\n\u001b[1;32m      7\u001b[0m         \u001b[0;34m(\u001b[0m\u001b[0mTopping\u001b[0m\u001b[0;34m.\u001b[0m\u001b[0msprinkles\u001b[0m\u001b[0;34m,\u001b[0m \u001b[0;34m'InvalidTopping'\u001b[0m\u001b[0;34m)\u001b[0m\u001b[0;34m,\u001b[0m\u001b[0;34m\u001b[0m\u001b[0;34m\u001b[0m\u001b[0m\n\u001b[0;32m----> 8\u001b[0;31m         \u001b[0;36m2\u001b[0m\u001b[0;34m\u001b[0m\u001b[0;34m\u001b[0m\u001b[0m\n\u001b[0m\u001b[1;32m      9\u001b[0m     )\n\u001b[1;32m     10\u001b[0m     \u001b[0mprint\u001b[0m\u001b[0;34m(\u001b[0m\u001b[0mice_cream_mix\u001b[0m\u001b[0;34m)\u001b[0m\u001b[0;34m\u001b[0m\u001b[0;34m\u001b[0m\u001b[0m\n",
            "\u001b[0;32m<string>\u001b[0m in \u001b[0;36m__init__\u001b[0;34m(self, name, flavor, toppings, scoops)\u001b[0m\n",
            "\u001b[0;32m/usr/local/lib/python3.6/dist-packages/pydantic/dataclasses.cpython-36m-x86_64-linux-gnu.so\u001b[0m in \u001b[0;36mpydantic.dataclasses._process_class._pydantic_post_init\u001b[0;34m()\u001b[0m\n",
            "\u001b[0;31mValidationError\u001b[0m: 1 validation error for IceCreamMix\ntoppings -> 1\n  value is not a valid enumeration member; permitted: 'sprinkles', 'chocolate chips', 'whipped cream', 'cookies', 'hot fudge' (type=type_error.enum; enum_values=[<Topping.sprinkles: 'sprinkles'>, <Topping.chocolate_chips: 'chocolate chips'>, <Topping.whipped_cream: 'whipped cream'>, <Topping.cookies: 'cookies'>, <Topping.hot_fudge: 'hot fudge'>])"
          ]
        }
      ]
    },
    {
      "cell_type": "markdown",
      "metadata": {
        "id": "JI0k5f37T-zK"
      },
      "source": [
        "## Valid Attribute"
      ]
    },
    {
      "cell_type": "code",
      "metadata": {
        "colab": {
          "base_uri": "https://localhost:8080/"
        },
        "id": "o99qHFB6OtNt",
        "outputId": "9dacf96b-8371-41a9-fc08-892a88005fac"
      },
      "source": [
        "def with_valid_topping():\r\n",
        "    ice_cream_mix = IceCreamMix(\r\n",
        "        \"Best Seller\",\r\n",
        "        Flavor.mocha,\r\n",
        "        (Topping.sprinkles, Topping.chocolate_chips),\r\n",
        "        '2'     # Pydantic will also auto-fix simple type error\r\n",
        "    )\r\n",
        "    print(ice_cream_mix)\r\n",
        "\r\n",
        "with_valid_topping()"
      ],
      "execution_count": 7,
      "outputs": [
        {
          "output_type": "stream",
          "text": [
            "IceCreamMix(name='Best Seller', flavor=<Flavor.mocha: 'mocha'>, toppings=(<Topping.sprinkles: 'sprinkles'>, <Topping.chocolate_chips: 'chocolate chips'>), scoops=2)\n"
          ],
          "name": "stdout"
        }
      ]
    },
    {
      "cell_type": "markdown",
      "metadata": {
        "id": "iQgOgsn5WbDe"
      },
      "source": [
        "# Model : BaseModel"
      ]
    },
    {
      "cell_type": "code",
      "metadata": {
        "id": "IDE5Uel5Whgl"
      },
      "source": [
        "from pydantic import BaseModel, ValidationError, Field, validator, root_validator\r\n",
        "\r\n",
        "# Extra feature : serialization, Json output for object and errors/exceptions, define attribute value in range "
      ],
      "execution_count": 8,
      "outputs": []
    },
    {
      "cell_type": "code",
      "metadata": {
        "id": "RzVuEFQtWpdF"
      },
      "source": [
        "class IceCreamMix(BaseModel):     # decorator\r\n",
        "    name: str\r\n",
        "    flavor: Flavor\r\n",
        "    toppings: Tuple[Topping, ...]\r\n",
        "    scoops: int"
      ],
      "execution_count": 9,
      "outputs": []
    },
    {
      "cell_type": "markdown",
      "metadata": {
        "id": "lnoGxl5UZh0p"
      },
      "source": [
        "## Valid Attribute"
      ]
    },
    {
      "cell_type": "code",
      "metadata": {
        "colab": {
          "base_uri": "https://localhost:8080/"
        },
        "id": "bHAu33G0XJZk",
        "outputId": "a7f732ca-fef8-4fbf-94c8-7a1f40973e3b"
      },
      "source": [
        "def with_valid_topping(): \r\n",
        "    ice_cream_mix = IceCreamMix(\r\n",
        "        name = \"Best Seller\",\r\n",
        "        flavor = Flavor.mocha,\r\n",
        "        toppings = (Topping.sprinkles, Topping.chocolate_chips),\r\n",
        "        scoops = 2\r\n",
        "    )\r\n",
        "    print(ice_cream_mix.json())     # Output result as JSON\r\n",
        "\r\n",
        "with_valid_topping()"
      ],
      "execution_count": 10,
      "outputs": [
        {
          "output_type": "stream",
          "text": [
            "{\"name\": \"Best Seller\", \"flavor\": \"mocha\", \"toppings\": [\"sprinkles\", \"chocolate chips\"], \"scoops\": 2}\n"
          ],
          "name": "stdout"
        }
      ]
    },
    {
      "cell_type": "markdown",
      "metadata": {
        "id": "acGm9nZ3ZmWS"
      },
      "source": [
        "## Invalid Attribute"
      ]
    },
    {
      "cell_type": "code",
      "metadata": {
        "colab": {
          "base_uri": "https://localhost:8080/",
          "height": 605
        },
        "id": "x3OFEzrVYQTO",
        "outputId": "437abead-b0d3-4995-c5bf-0f2100d1ed63"
      },
      "source": [
        "def with_invalid_flavor(): \r\n",
        "    try:\r\n",
        "        ice_cream_mix = IceCreamMix(\r\n",
        "            name = \"Best Seller\",\r\n",
        "            flavor = 'RandomFlavor',\r\n",
        "            toppings = (Topping.sprinkles, Topping.chocolate_chips),\r\n",
        "            scoops = 2\r\n",
        "        )\r\n",
        "    except ValidationError as err:\r\n",
        "        print(err.json())       # Output error as JSON\r\n",
        "\r\n",
        "    print(ice_cream_mix.json())     # Output result as JSON\r\n",
        "\r\n",
        "with_invalid_flavor()"
      ],
      "execution_count": 11,
      "outputs": [
        {
          "output_type": "stream",
          "text": [
            "[\n",
            "  {\n",
            "    \"loc\": [\n",
            "      \"flavor\"\n",
            "    ],\n",
            "    \"msg\": \"value is not a valid enumeration member; permitted: 'chocolate', 'vanilla', 'mint', 'mocha'\",\n",
            "    \"type\": \"type_error.enum\",\n",
            "    \"ctx\": {\n",
            "      \"enum_values\": [\n",
            "        \"chocolate\",\n",
            "        \"vanilla\",\n",
            "        \"mint\",\n",
            "        \"mocha\"\n",
            "      ]\n",
            "    }\n",
            "  }\n",
            "]\n"
          ],
          "name": "stdout"
        },
        {
          "output_type": "error",
          "ename": "UnboundLocalError",
          "evalue": "ignored",
          "traceback": [
            "\u001b[0;31m---------------------------------------------------------------------------\u001b[0m",
            "\u001b[0;31mUnboundLocalError\u001b[0m                         Traceback (most recent call last)",
            "\u001b[0;32m<ipython-input-11-959c4938cc37>\u001b[0m in \u001b[0;36m<module>\u001b[0;34m()\u001b[0m\n\u001b[1;32m     12\u001b[0m     \u001b[0mprint\u001b[0m\u001b[0;34m(\u001b[0m\u001b[0mice_cream_mix\u001b[0m\u001b[0;34m.\u001b[0m\u001b[0mjson\u001b[0m\u001b[0;34m(\u001b[0m\u001b[0;34m)\u001b[0m\u001b[0;34m)\u001b[0m     \u001b[0;31m# Output result as JSON\u001b[0m\u001b[0;34m\u001b[0m\u001b[0;34m\u001b[0m\u001b[0m\n\u001b[1;32m     13\u001b[0m \u001b[0;34m\u001b[0m\u001b[0m\n\u001b[0;32m---> 14\u001b[0;31m \u001b[0mwith_invalid_flavor\u001b[0m\u001b[0;34m(\u001b[0m\u001b[0;34m)\u001b[0m\u001b[0;34m\u001b[0m\u001b[0;34m\u001b[0m\u001b[0m\n\u001b[0m",
            "\u001b[0;32m<ipython-input-11-959c4938cc37>\u001b[0m in \u001b[0;36mwith_invalid_flavor\u001b[0;34m()\u001b[0m\n\u001b[1;32m     10\u001b[0m         \u001b[0mprint\u001b[0m\u001b[0;34m(\u001b[0m\u001b[0merr\u001b[0m\u001b[0;34m.\u001b[0m\u001b[0mjson\u001b[0m\u001b[0;34m(\u001b[0m\u001b[0;34m)\u001b[0m\u001b[0;34m)\u001b[0m       \u001b[0;31m# Output error as JSON\u001b[0m\u001b[0;34m\u001b[0m\u001b[0;34m\u001b[0m\u001b[0m\n\u001b[1;32m     11\u001b[0m \u001b[0;34m\u001b[0m\u001b[0m\n\u001b[0;32m---> 12\u001b[0;31m     \u001b[0mprint\u001b[0m\u001b[0;34m(\u001b[0m\u001b[0mice_cream_mix\u001b[0m\u001b[0;34m.\u001b[0m\u001b[0mjson\u001b[0m\u001b[0;34m(\u001b[0m\u001b[0;34m)\u001b[0m\u001b[0;34m)\u001b[0m     \u001b[0;31m# Output result as JSON\u001b[0m\u001b[0;34m\u001b[0m\u001b[0;34m\u001b[0m\u001b[0m\n\u001b[0m\u001b[1;32m     13\u001b[0m \u001b[0;34m\u001b[0m\u001b[0m\n\u001b[1;32m     14\u001b[0m \u001b[0mwith_invalid_flavor\u001b[0m\u001b[0;34m(\u001b[0m\u001b[0;34m)\u001b[0m\u001b[0;34m\u001b[0m\u001b[0;34m\u001b[0m\u001b[0m\n",
            "\u001b[0;31mUnboundLocalError\u001b[0m: local variable 'ice_cream_mix' referenced before assignment"
          ]
        }
      ]
    },
    {
      "cell_type": "markdown",
      "metadata": {
        "id": "df4B0QJ0ZMCo"
      },
      "source": [
        "## Define Attribute Value in range"
      ]
    },
    {
      "cell_type": "code",
      "metadata": {
        "id": "4UddNYtzaDxi"
      },
      "source": [
        "class IceCreamMix(BaseModel):     # decorator\r\n",
        "    name: str\r\n",
        "    flavor: Flavor\r\n",
        "    toppings: Tuple[Topping, ...]\r\n",
        "    scoops: int = Field (..., gt=0, lt=5)       # scoops must be >0 and <5; ... = any value, can be replaced with default value, e.g. 2\r\n",
        "\r\n",
        "    @validator('toppings')\r\n",
        "    def check_toppings(cls, toppings):          # topping must not >2\r\n",
        "        if len(toppings) > 2 :\r\n",
        "            raise ValueError('Too many toppings')\r\n",
        "        return toppings"
      ],
      "execution_count": 12,
      "outputs": []
    },
    {
      "cell_type": "markdown",
      "metadata": {
        "id": "Tmdz-RSmbQGu"
      },
      "source": [
        "### Invalid \\# scoops - restrict attribute (int) to a range"
      ]
    },
    {
      "cell_type": "code",
      "metadata": {
        "colab": {
          "base_uri": "https://localhost:8080/",
          "height": 520
        },
        "id": "ctL7ugMyaiOz",
        "outputId": "cf18a590-b98a-45ac-9869-e4e05b1641a5"
      },
      "source": [
        "def with_invalid_scoops(): \r\n",
        "    try:\r\n",
        "        ice_cream_mix = IceCreamMix(\r\n",
        "            name = \"Best Seller\",\r\n",
        "            flavor = Flavor.mocha,\r\n",
        "            toppings = (Topping.sprinkles, Topping.chocolate_chips),\r\n",
        "            scoops = 5\r\n",
        "        )\r\n",
        "    except ValidationError as err:\r\n",
        "        print(err.json())       # Output error as JSON\r\n",
        "\r\n",
        "    print(ice_cream_mix.json())     # Output result as JSON\r\n",
        "\r\n",
        "with_invalid_scoops()"
      ],
      "execution_count": 13,
      "outputs": [
        {
          "output_type": "stream",
          "text": [
            "[\n",
            "  {\n",
            "    \"loc\": [\n",
            "      \"scoops\"\n",
            "    ],\n",
            "    \"msg\": \"ensure this value is less than 5\",\n",
            "    \"type\": \"value_error.number.not_lt\",\n",
            "    \"ctx\": {\n",
            "      \"limit_value\": 5\n",
            "    }\n",
            "  }\n",
            "]\n"
          ],
          "name": "stdout"
        },
        {
          "output_type": "error",
          "ename": "UnboundLocalError",
          "evalue": "ignored",
          "traceback": [
            "\u001b[0;31m---------------------------------------------------------------------------\u001b[0m",
            "\u001b[0;31mUnboundLocalError\u001b[0m                         Traceback (most recent call last)",
            "\u001b[0;32m<ipython-input-13-f123f9cea903>\u001b[0m in \u001b[0;36m<module>\u001b[0;34m()\u001b[0m\n\u001b[1;32m     12\u001b[0m     \u001b[0mprint\u001b[0m\u001b[0;34m(\u001b[0m\u001b[0mice_cream_mix\u001b[0m\u001b[0;34m.\u001b[0m\u001b[0mjson\u001b[0m\u001b[0;34m(\u001b[0m\u001b[0;34m)\u001b[0m\u001b[0;34m)\u001b[0m     \u001b[0;31m# Output result as JSON\u001b[0m\u001b[0;34m\u001b[0m\u001b[0;34m\u001b[0m\u001b[0m\n\u001b[1;32m     13\u001b[0m \u001b[0;34m\u001b[0m\u001b[0m\n\u001b[0;32m---> 14\u001b[0;31m \u001b[0mwith_invalid_scoops\u001b[0m\u001b[0;34m(\u001b[0m\u001b[0;34m)\u001b[0m\u001b[0;34m\u001b[0m\u001b[0;34m\u001b[0m\u001b[0m\n\u001b[0m",
            "\u001b[0;32m<ipython-input-13-f123f9cea903>\u001b[0m in \u001b[0;36mwith_invalid_scoops\u001b[0;34m()\u001b[0m\n\u001b[1;32m     10\u001b[0m         \u001b[0mprint\u001b[0m\u001b[0;34m(\u001b[0m\u001b[0merr\u001b[0m\u001b[0;34m.\u001b[0m\u001b[0mjson\u001b[0m\u001b[0;34m(\u001b[0m\u001b[0;34m)\u001b[0m\u001b[0;34m)\u001b[0m       \u001b[0;31m# Output error as JSON\u001b[0m\u001b[0;34m\u001b[0m\u001b[0;34m\u001b[0m\u001b[0m\n\u001b[1;32m     11\u001b[0m \u001b[0;34m\u001b[0m\u001b[0m\n\u001b[0;32m---> 12\u001b[0;31m     \u001b[0mprint\u001b[0m\u001b[0;34m(\u001b[0m\u001b[0mice_cream_mix\u001b[0m\u001b[0;34m.\u001b[0m\u001b[0mjson\u001b[0m\u001b[0;34m(\u001b[0m\u001b[0;34m)\u001b[0m\u001b[0;34m)\u001b[0m     \u001b[0;31m# Output result as JSON\u001b[0m\u001b[0;34m\u001b[0m\u001b[0;34m\u001b[0m\u001b[0m\n\u001b[0m\u001b[1;32m     13\u001b[0m \u001b[0;34m\u001b[0m\u001b[0m\n\u001b[1;32m     14\u001b[0m \u001b[0mwith_invalid_scoops\u001b[0m\u001b[0;34m(\u001b[0m\u001b[0;34m)\u001b[0m\u001b[0;34m\u001b[0m\u001b[0;34m\u001b[0m\u001b[0m\n",
            "\u001b[0;31mUnboundLocalError\u001b[0m: local variable 'ice_cream_mix' referenced before assignment"
          ]
        }
      ]
    },
    {
      "cell_type": "markdown",
      "metadata": {
        "id": "QQsLj8nEbZCf"
      },
      "source": [
        "### Invalid \\# toppings - restrict \\# values in attribute"
      ]
    },
    {
      "cell_type": "code",
      "metadata": {
        "colab": {
          "base_uri": "https://localhost:8080/",
          "height": 469
        },
        "id": "fZPEohnubYXQ",
        "outputId": "ed0d6db3-6efa-4586-e313-346238b6d4cf"
      },
      "source": [
        "def with_invalid_scoops(): \r\n",
        "    try:\r\n",
        "        ice_cream_mix = IceCreamMix(\r\n",
        "            name = \"Best Seller\",\r\n",
        "            flavor = Flavor.mocha,\r\n",
        "            toppings = (Topping.sprinkles, Topping.chocolate_chips, Topping.whipped_cream),\r\n",
        "            scoops = 2\r\n",
        "        )\r\n",
        "    except ValidationError as err:\r\n",
        "        print(err.json())       # Output error as JSON\r\n",
        "\r\n",
        "    print(ice_cream_mix.json())     # Output result as JSON\r\n",
        "\r\n",
        "with_invalid_scoops()"
      ],
      "execution_count": 14,
      "outputs": [
        {
          "output_type": "stream",
          "text": [
            "[\n",
            "  {\n",
            "    \"loc\": [\n",
            "      \"toppings\"\n",
            "    ],\n",
            "    \"msg\": \"Too many toppings\",\n",
            "    \"type\": \"value_error\"\n",
            "  }\n",
            "]\n"
          ],
          "name": "stdout"
        },
        {
          "output_type": "error",
          "ename": "UnboundLocalError",
          "evalue": "ignored",
          "traceback": [
            "\u001b[0;31m---------------------------------------------------------------------------\u001b[0m",
            "\u001b[0;31mUnboundLocalError\u001b[0m                         Traceback (most recent call last)",
            "\u001b[0;32m<ipython-input-14-cd750b8ff09d>\u001b[0m in \u001b[0;36m<module>\u001b[0;34m()\u001b[0m\n\u001b[1;32m     12\u001b[0m     \u001b[0mprint\u001b[0m\u001b[0;34m(\u001b[0m\u001b[0mice_cream_mix\u001b[0m\u001b[0;34m.\u001b[0m\u001b[0mjson\u001b[0m\u001b[0;34m(\u001b[0m\u001b[0;34m)\u001b[0m\u001b[0;34m)\u001b[0m     \u001b[0;31m# Output result as JSON\u001b[0m\u001b[0;34m\u001b[0m\u001b[0;34m\u001b[0m\u001b[0m\n\u001b[1;32m     13\u001b[0m \u001b[0;34m\u001b[0m\u001b[0m\n\u001b[0;32m---> 14\u001b[0;31m \u001b[0mwith_invalid_scoops\u001b[0m\u001b[0;34m(\u001b[0m\u001b[0;34m)\u001b[0m\u001b[0;34m\u001b[0m\u001b[0;34m\u001b[0m\u001b[0m\n\u001b[0m",
            "\u001b[0;32m<ipython-input-14-cd750b8ff09d>\u001b[0m in \u001b[0;36mwith_invalid_scoops\u001b[0;34m()\u001b[0m\n\u001b[1;32m     10\u001b[0m         \u001b[0mprint\u001b[0m\u001b[0;34m(\u001b[0m\u001b[0merr\u001b[0m\u001b[0;34m.\u001b[0m\u001b[0mjson\u001b[0m\u001b[0;34m(\u001b[0m\u001b[0;34m)\u001b[0m\u001b[0;34m)\u001b[0m       \u001b[0;31m# Output error as JSON\u001b[0m\u001b[0;34m\u001b[0m\u001b[0;34m\u001b[0m\u001b[0m\n\u001b[1;32m     11\u001b[0m \u001b[0;34m\u001b[0m\u001b[0m\n\u001b[0;32m---> 12\u001b[0;31m     \u001b[0mprint\u001b[0m\u001b[0;34m(\u001b[0m\u001b[0mice_cream_mix\u001b[0m\u001b[0;34m.\u001b[0m\u001b[0mjson\u001b[0m\u001b[0;34m(\u001b[0m\u001b[0;34m)\u001b[0m\u001b[0;34m)\u001b[0m     \u001b[0;31m# Output result as JSON\u001b[0m\u001b[0;34m\u001b[0m\u001b[0;34m\u001b[0m\u001b[0m\n\u001b[0m\u001b[1;32m     13\u001b[0m \u001b[0;34m\u001b[0m\u001b[0m\n\u001b[1;32m     14\u001b[0m \u001b[0mwith_invalid_scoops\u001b[0m\u001b[0;34m(\u001b[0m\u001b[0;34m)\u001b[0m\u001b[0;34m\u001b[0m\u001b[0;34m\u001b[0m\u001b[0m\n",
            "\u001b[0;31mUnboundLocalError\u001b[0m: local variable 'ice_cream_mix' referenced before assignment"
          ]
        }
      ]
    },
    {
      "cell_type": "markdown",
      "metadata": {
        "id": "ND6WKRu7n0y_"
      },
      "source": [
        "### Invalid container - restrict attribute value based on other attribute"
      ]
    },
    {
      "cell_type": "code",
      "metadata": {
        "id": "Npa1NBron9Ax"
      },
      "source": [
        "class Container(str, Enum):\r\n",
        "    cup = 'cup',\r\n",
        "    cone = 'cone',\r\n",
        "    waffle = 'waffle'\r\n",
        "\r\n",
        "class IceCreamMix2(BaseModel):     # decorator\r\n",
        "    name: str\r\n",
        "    flavor: Flavor\r\n",
        "    toppings: Tuple[Topping, ...]\r\n",
        "    container : Container\r\n",
        "    scoops: int\r\n",
        "\r\n",
        "    @root_validator\r\n",
        "    def check_toppings(cls, values):\r\n",
        "        container = values.get('container')\r\n",
        "        toppings = values.get('toppings')\r\n",
        "        if container == Container.cone:\r\n",
        "            if Topping.hot_fudge in toppings:\r\n",
        "                raise ValueError('cone cannot contain hot fudge')\r\n",
        "        return values"
      ],
      "execution_count": 20,
      "outputs": []
    },
    {
      "cell_type": "code",
      "metadata": {
        "colab": {
          "base_uri": "https://localhost:8080/",
          "height": 469
        },
        "id": "wqH8hd3jn4vf",
        "outputId": "56ba5cae-4af4-426a-f34e-66aaeb72e181"
      },
      "source": [
        "def with_invalid_container(): \r\n",
        "    try:\r\n",
        "        ice_cream_mix2 = IceCreamMix2(\r\n",
        "            name = \"Best Seller\",\r\n",
        "            flavor = Flavor.mocha,\r\n",
        "            toppings = (Topping.chocolate_chips, Topping.hot_fudge),\r\n",
        "            container = Container.cone,\r\n",
        "            scoops = 2\r\n",
        "        )\r\n",
        "    except ValidationError as err:\r\n",
        "        print(err.json())       # Output error as JSON\r\n",
        "\r\n",
        "    print(ice_cream_mix2.json())     # Output result as JSON\r\n",
        "\r\n",
        "with_invalid_container()"
      ],
      "execution_count": 21,
      "outputs": [
        {
          "output_type": "stream",
          "text": [
            "[\n",
            "  {\n",
            "    \"loc\": [\n",
            "      \"__root__\"\n",
            "    ],\n",
            "    \"msg\": \"cone cannot contain hot fudge\",\n",
            "    \"type\": \"value_error\"\n",
            "  }\n",
            "]\n"
          ],
          "name": "stdout"
        },
        {
          "output_type": "error",
          "ename": "UnboundLocalError",
          "evalue": "ignored",
          "traceback": [
            "\u001b[0;31m---------------------------------------------------------------------------\u001b[0m",
            "\u001b[0;31mUnboundLocalError\u001b[0m                         Traceback (most recent call last)",
            "\u001b[0;32m<ipython-input-21-07ec47382578>\u001b[0m in \u001b[0;36m<module>\u001b[0;34m()\u001b[0m\n\u001b[1;32m     13\u001b[0m     \u001b[0mprint\u001b[0m\u001b[0;34m(\u001b[0m\u001b[0mice_cream_mix2\u001b[0m\u001b[0;34m.\u001b[0m\u001b[0mjson\u001b[0m\u001b[0;34m(\u001b[0m\u001b[0;34m)\u001b[0m\u001b[0;34m)\u001b[0m     \u001b[0;31m# Output result as JSON\u001b[0m\u001b[0;34m\u001b[0m\u001b[0;34m\u001b[0m\u001b[0m\n\u001b[1;32m     14\u001b[0m \u001b[0;34m\u001b[0m\u001b[0m\n\u001b[0;32m---> 15\u001b[0;31m \u001b[0mwith_invalid_container\u001b[0m\u001b[0;34m(\u001b[0m\u001b[0;34m)\u001b[0m\u001b[0;34m\u001b[0m\u001b[0;34m\u001b[0m\u001b[0m\n\u001b[0m",
            "\u001b[0;32m<ipython-input-21-07ec47382578>\u001b[0m in \u001b[0;36mwith_invalid_container\u001b[0;34m()\u001b[0m\n\u001b[1;32m     11\u001b[0m         \u001b[0mprint\u001b[0m\u001b[0;34m(\u001b[0m\u001b[0merr\u001b[0m\u001b[0;34m.\u001b[0m\u001b[0mjson\u001b[0m\u001b[0;34m(\u001b[0m\u001b[0;34m)\u001b[0m\u001b[0;34m)\u001b[0m       \u001b[0;31m# Output error as JSON\u001b[0m\u001b[0;34m\u001b[0m\u001b[0;34m\u001b[0m\u001b[0m\n\u001b[1;32m     12\u001b[0m \u001b[0;34m\u001b[0m\u001b[0m\n\u001b[0;32m---> 13\u001b[0;31m     \u001b[0mprint\u001b[0m\u001b[0;34m(\u001b[0m\u001b[0mice_cream_mix2\u001b[0m\u001b[0;34m.\u001b[0m\u001b[0mjson\u001b[0m\u001b[0;34m(\u001b[0m\u001b[0;34m)\u001b[0m\u001b[0;34m)\u001b[0m     \u001b[0;31m# Output result as JSON\u001b[0m\u001b[0;34m\u001b[0m\u001b[0;34m\u001b[0m\u001b[0m\n\u001b[0m\u001b[1;32m     14\u001b[0m \u001b[0;34m\u001b[0m\u001b[0m\n\u001b[1;32m     15\u001b[0m \u001b[0mwith_invalid_container\u001b[0m\u001b[0;34m(\u001b[0m\u001b[0;34m)\u001b[0m\u001b[0;34m\u001b[0m\u001b[0;34m\u001b[0m\u001b[0m\n",
            "\u001b[0;31mUnboundLocalError\u001b[0m: local variable 'ice_cream_mix2' referenced before assignment"
          ]
        }
      ]
    }
  ]
}
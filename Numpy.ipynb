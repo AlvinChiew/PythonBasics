{
  "nbformat": 4,
  "nbformat_minor": 0,
  "metadata": {
    "colab": {
      "name": "Numpy.ipynb",
      "provenance": [],
      "collapsed_sections": [],
      "authorship_tag": "ABX9TyOUJPgir4AZtpe/chGhlJHW",
      "include_colab_link": true
    },
    "kernelspec": {
      "name": "python3",
      "display_name": "Python 3"
    }
  },
  "cells": [
    {
      "cell_type": "markdown",
      "metadata": {
        "id": "view-in-github",
        "colab_type": "text"
      },
      "source": [
        "<a href=\"https://colab.research.google.com/github/AlvinChiew/PythonBasics/blob/main/Numpy.ipynb\" target=\"_parent\"><img src=\"https://colab.research.google.com/assets/colab-badge.svg\" alt=\"Open In Colab\"/></a>"
      ]
    },
    {
      "cell_type": "code",
      "metadata": {
        "id": "RAumI5szKWQu"
      },
      "source": [
        "import numpy as np"
      ],
      "execution_count": 1,
      "outputs": []
    },
    {
      "cell_type": "markdown",
      "metadata": {
        "id": "PZd20LitPri2"
      },
      "source": [
        "# Numpy Vs List"
      ]
    },
    {
      "cell_type": "code",
      "metadata": {
        "id": "XoWamQZaPu_f"
      },
      "source": [
        "np_arr = np.array([1,2,3])\r\n",
        "py_lst = [\"a\",\"b\",\"c\"]\r\n",
        "py_lst_num = [1,2,3]"
      ],
      "execution_count": null,
      "outputs": []
    },
    {
      "cell_type": "code",
      "metadata": {
        "colab": {
          "base_uri": "https://localhost:8080/"
        },
        "id": "wUg5Bfn3QIYn",
        "outputId": "c2373185-b377-4ffd-bbb5-baef03353a75"
      },
      "source": [
        "# element printing method (same)\r\n",
        "for e in np_arr:\r\n",
        "    print(e) \r\n",
        "for i in py_lst:\r\n",
        "    print(i)"
      ],
      "execution_count": null,
      "outputs": [
        {
          "output_type": "stream",
          "text": [
            "1\n",
            "2\n",
            "3\n",
            "a\n",
            "b\n",
            "c\n"
          ],
          "name": "stdout"
        }
      ]
    },
    {
      "cell_type": "code",
      "metadata": {
        "colab": {
          "base_uri": "https://localhost:8080/"
        },
        "id": "DwSj3bAIQqz5",
        "outputId": "0a779d95-7e3b-4d97-a9d9-2597bd0f546e"
      },
      "source": [
        "# append element\r\n",
        "print(np.append(np_arr, [4]))\r\n",
        "py_lst.append(\"d\")\r\n",
        "print(py_lst)"
      ],
      "execution_count": null,
      "outputs": [
        {
          "output_type": "stream",
          "text": [
            "[1 2 3 4]\n",
            "['a', 'b', 'c', 'd']\n"
          ],
          "name": "stdout"
        }
      ]
    },
    {
      "cell_type": "code",
      "metadata": {
        "colab": {
          "base_uri": "https://localhost:8080/"
        },
        "id": "m7cdPCnzRXQV",
        "outputId": "622e369f-6ec9-4993-f7a2-bcd60313e722"
      },
      "source": [
        "# broadcasting\r\n",
        "print(np_arr + np.array([4]))\r\n",
        "py_lst2 = [e + 4 for e in py_lst_num]    # achieve with new list storing multiplication result from py_lst in a for loop\r\n",
        "print(py_lst2)"
      ],
      "execution_count": null,
      "outputs": [
        {
          "output_type": "stream",
          "text": [
            "[5 6 7]\n",
            "[5, 6, 7]\n"
          ],
          "name": "stdout"
        }
      ]
    },
    {
      "cell_type": "code",
      "metadata": {
        "colab": {
          "base_uri": "https://localhost:8080/"
        },
        "id": "DnWDkowgSV_Z",
        "outputId": "c0c7ee4d-fa19-47c7-e53d-cc327255ffc0"
      },
      "source": [
        "# Multiplication\r\n",
        "print(2*np_arr)\r\n",
        "print(2*py_lst)     # same as (py_lst + py_lst); "
      ],
      "execution_count": null,
      "outputs": [
        {
          "output_type": "stream",
          "text": [
            "[2 4 6]\n",
            "['a', 'b', 'c', 'd', 'a', 'b', 'c', 'd']\n"
          ],
          "name": "stdout"
        }
      ]
    },
    {
      "cell_type": "code",
      "metadata": {
        "colab": {
          "base_uri": "https://localhost:8080/"
        },
        "id": "LBjJy5HdT9Cc",
        "outputId": "4f085314-d144-4576-c27c-781d31761ba7"
      },
      "source": [
        "# exponential\r\n",
        "print(np_arr**2)\r\n",
        "py_lst2 = [e**2 for e in py_lst_num]  \r\n",
        "print(py_lst2)"
      ],
      "execution_count": null,
      "outputs": [
        {
          "output_type": "stream",
          "text": [
            "[1 4 9]\n",
            "[1, 4, 9]\n"
          ],
          "name": "stdout"
        }
      ]
    },
    {
      "cell_type": "code",
      "metadata": {
        "colab": {
          "base_uri": "https://localhost:8080/"
        },
        "id": "iOYn-T8YU6lM",
        "outputId": "289b45cf-519a-408a-d3c1-b938b28f9c89"
      },
      "source": [
        "# np operations\r\n",
        "print(np.sqrt(np_arr))\r\n",
        "print(np.log(np_arr))\r\n",
        "print(np.exp(np_arr))\r\n",
        "print(np.tanh(np_arr))"
      ],
      "execution_count": null,
      "outputs": [
        {
          "output_type": "stream",
          "text": [
            "[1.         1.41421356 1.73205081]\n",
            "[0.         0.69314718 1.09861229]\n",
            "[ 2.71828183  7.3890561  20.08553692]\n",
            "[0.76159416 0.96402758 0.99505475]\n"
          ],
          "name": "stdout"
        }
      ]
    },
    {
      "cell_type": "markdown",
      "metadata": {
        "id": "5BugYpXLcs9k"
      },
      "source": [
        "## Speed Test"
      ]
    },
    {
      "cell_type": "code",
      "metadata": {
        "colab": {
          "base_uri": "https://localhost:8080/"
        },
        "id": "JGJwfq-4cuNp",
        "outputId": "1821f5a9-0976-4c1c-d9e7-81e8038f27b1"
      },
      "source": [
        "from datetime import datetime   # alternatively, can use %timeit\r\n",
        "\r\n",
        "a = np.random.randn(100)\r\n",
        "b = np.random.randn(100)\r\n",
        "T = 100000      # perform dot product # times\r\n",
        "\r\n",
        "def lst_dot_product(a, b):\r\n",
        "  result = 0\r\n",
        "  for i1, i2 in zip(a, b):\r\n",
        "    result += i1*i2\r\n",
        "  return result\r\n",
        "\r\n",
        "t0 = datetime.now()\r\n",
        "for t in range(T):\r\n",
        "  lst_dot_product(a, b)\r\n",
        "dt_lst = datetime.now() - t0\r\n",
        "\r\n",
        "t0 = datetime.now()\r\n",
        "for t in range(T):\r\n",
        "  a.dot(b)\r\n",
        "dt_np = datetime.now() - t0\r\n",
        "\r\n",
        "print(\"dt_lst / dt_np:\", dt_lst.total_seconds() / dt_np.total_seconds())"
      ],
      "execution_count": null,
      "outputs": [
        {
          "output_type": "stream",
          "text": [
            "dt_lst / dt_np: 63.95256178241908\n"
          ],
          "name": "stdout"
        }
      ]
    },
    {
      "cell_type": "markdown",
      "metadata": {
        "id": "eiqeUFPrZJBA"
      },
      "source": [
        "# Dot Product"
      ]
    },
    {
      "cell_type": "markdown",
      "metadata": {
        "id": "Qsx-M2uba4Dh"
      },
      "source": [
        "$$ a \\cdot b = a^T b = \\sum_{d=1}^D a_d b_d $$"
      ]
    },
    {
      "cell_type": "code",
      "metadata": {
        "id": "7W02NNxmZKiV"
      },
      "source": [
        "a = np.array([1,2])\r\n",
        "b = np.array([3,4])"
      ],
      "execution_count": null,
      "outputs": []
    },
    {
      "cell_type": "code",
      "metadata": {
        "colab": {
          "base_uri": "https://localhost:8080/"
        },
        "id": "NWpVDd7CaJyQ",
        "outputId": "689eb68e-c49e-4168-a23d-0d6964ceb1cf"
      },
      "source": [
        "np.dot(a,b)"
      ],
      "execution_count": null,
      "outputs": [
        {
          "output_type": "execute_result",
          "data": {
            "text/plain": [
              "11"
            ]
          },
          "metadata": {
            "tags": []
          },
          "execution_count": 35
        }
      ]
    },
    {
      "cell_type": "code",
      "metadata": {
        "colab": {
          "base_uri": "https://localhost:8080/"
        },
        "id": "u89FEmbyaO7d",
        "outputId": "ecce3968-e45a-4fe7-8a31-2852ddacb3f3"
      },
      "source": [
        "a @ b"
      ],
      "execution_count": null,
      "outputs": [
        {
          "output_type": "execute_result",
          "data": {
            "text/plain": [
              "11"
            ]
          },
          "metadata": {
            "tags": []
          },
          "execution_count": 36
        }
      ]
    },
    {
      "cell_type": "code",
      "metadata": {
        "colab": {
          "base_uri": "https://localhost:8080/"
        },
        "id": "hXVp6UZkZRBt",
        "outputId": "b483ba0a-9550-4a0b-b299-f814eac9edc5"
      },
      "source": [
        "dotProd = 0\r\n",
        "for i1, i2 in zip(a,b):\r\n",
        "    dotProd += i1 * i2\r\n",
        "dotProd"
      ],
      "execution_count": null,
      "outputs": [
        {
          "output_type": "execute_result",
          "data": {
            "text/plain": [
              "11"
            ]
          },
          "metadata": {
            "tags": []
          },
          "execution_count": 33
        }
      ]
    },
    {
      "cell_type": "code",
      "metadata": {
        "colab": {
          "base_uri": "https://localhost:8080/"
        },
        "id": "cYq5dvgFZ-Qi",
        "outputId": "2db56b8f-de0b-4f80-8989-994ec810081a"
      },
      "source": [
        "np.sum(a*b)"
      ],
      "execution_count": null,
      "outputs": [
        {
          "output_type": "execute_result",
          "data": {
            "text/plain": [
              "11"
            ]
          },
          "metadata": {
            "tags": []
          },
          "execution_count": 34
        }
      ]
    },
    {
      "cell_type": "markdown",
      "metadata": {
        "id": "7q3tU4fBasmV"
      },
      "source": [
        "$$ a^T b = \\left\\lVert a \\right\\rVert \\left\\lVert b \\right\\rVert \\cos \\theta_{ab}$$\r\n",
        "\r\n",
        "$$ \\cos \\theta_{ab} = \\frac{a^T b}{\\left\\lVert a \\right\\rVert \\left\\lVert b \\right\\rVert} $$"
      ]
    },
    {
      "cell_type": "markdown",
      "metadata": {
        "id": "T9c3cyxJaxa2"
      },
      "source": [
        "$$ \\left\\lVert a \\right\\rVert = \\sqrt{\\sum_{d=1}^D a_d^2 } $$"
      ]
    },
    {
      "cell_type": "code",
      "metadata": {
        "colab": {
          "base_uri": "https://localhost:8080/"
        },
        "id": "IumXw7Ava7hD",
        "outputId": "527380ad-ce87-474b-f969-f5a9a9498d28"
      },
      "source": [
        "# find vector magnitude\r\n",
        "a_mag = np.sqrt(np.dot(a,a))\r\n",
        "a_mag"
      ],
      "execution_count": null,
      "outputs": [
        {
          "output_type": "execute_result",
          "data": {
            "text/plain": [
              "2.23606797749979"
            ]
          },
          "metadata": {
            "tags": []
          },
          "execution_count": 38
        }
      ]
    },
    {
      "cell_type": "code",
      "metadata": {
        "colab": {
          "base_uri": "https://localhost:8080/"
        },
        "id": "MPUW4kEabm4f",
        "outputId": "99ba95cc-9547-47d4-967c-e21cc5d9dbc7"
      },
      "source": [
        "np.linalg.norm(a)"
      ],
      "execution_count": null,
      "outputs": [
        {
          "output_type": "execute_result",
          "data": {
            "text/plain": [
              "2.23606797749979"
            ]
          },
          "metadata": {
            "tags": []
          },
          "execution_count": 39
        }
      ]
    },
    {
      "cell_type": "code",
      "metadata": {
        "colab": {
          "base_uri": "https://localhost:8080/"
        },
        "id": "fuqcCujia_Nh",
        "outputId": "28c7eb2a-63b6-4871-ee32-db09ffa69b8d"
      },
      "source": [
        "# Find Theta/angle of cosine\r\n",
        "cos_angle = a.dot(b) / (np.linalg.norm(a) * np.linalg.norm(b))\r\n",
        "angle = np.arccos(cos_angle) \r\n",
        "angle"
      ],
      "execution_count": null,
      "outputs": [
        {
          "output_type": "execute_result",
          "data": {
            "text/plain": [
              "0.17985349979247847"
            ]
          },
          "metadata": {
            "tags": []
          },
          "execution_count": 43
        }
      ]
    },
    {
      "cell_type": "markdown",
      "metadata": {
        "id": "ZqMLTTQLdeRv"
      },
      "source": [
        "# Matrices"
      ]
    },
    {
      "cell_type": "code",
      "metadata": {
        "id": "ZEopS5BTdf-3"
      },
      "source": [
        "np_mtx = np.array([[1,2],[3,4]])\r\n",
        "py_mtx = [[1,2],[3,4]]"
      ],
      "execution_count": null,
      "outputs": []
    },
    {
      "cell_type": "code",
      "metadata": {
        "colab": {
          "base_uri": "https://localhost:8080/"
        },
        "id": "k-58wqU2eEeM",
        "outputId": "b410a34e-05ea-4071-9547-999ea4fdc3b9"
      },
      "source": [
        "# Access matrices\r\n",
        "print(np_mtx[0,1])\r\n",
        "print(np_mtx[0][1])\r\n",
        "print(py_mtx[0][1])"
      ],
      "execution_count": null,
      "outputs": [
        {
          "output_type": "stream",
          "text": [
            "2\n",
            "2\n",
            "2\n"
          ],
          "name": "stdout"
        }
      ]
    },
    {
      "cell_type": "code",
      "metadata": {
        "colab": {
          "base_uri": "https://localhost:8080/"
        },
        "id": "jyMwos6geo98",
        "outputId": "bab44e7f-ace7-4173-d798-ebde8d216095"
      },
      "source": [
        "np_mtx[:,0]"
      ],
      "execution_count": null,
      "outputs": [
        {
          "output_type": "execute_result",
          "data": {
            "text/plain": [
              "array([1, 3])"
            ]
          },
          "metadata": {
            "tags": []
          },
          "execution_count": 51
        }
      ]
    },
    {
      "cell_type": "code",
      "metadata": {
        "colab": {
          "base_uri": "https://localhost:8080/"
        },
        "id": "M6dElhA3eu06",
        "outputId": "e9e7f704-1ae9-488a-f4bd-d6cd57653e67"
      },
      "source": [
        "np_mtx.T"
      ],
      "execution_count": null,
      "outputs": [
        {
          "output_type": "execute_result",
          "data": {
            "text/plain": [
              "array([[1, 3],\n",
              "       [2, 4]])"
            ]
          },
          "metadata": {
            "tags": []
          },
          "execution_count": 52
        }
      ]
    },
    {
      "cell_type": "code",
      "metadata": {
        "colab": {
          "base_uri": "https://localhost:8080/"
        },
        "id": "COgbcWiqe4rf",
        "outputId": "143770e7-55a4-4f8e-d4a3-a9fec73a67d2"
      },
      "source": [
        "np.exp(np_mtx)      # applies element wise"
      ],
      "execution_count": null,
      "outputs": [
        {
          "output_type": "execute_result",
          "data": {
            "text/plain": [
              "array([[ 2.71828183,  7.3890561 ],\n",
              "       [20.08553692, 54.59815003]])"
            ]
          },
          "metadata": {
            "tags": []
          },
          "execution_count": 53
        }
      ]
    },
    {
      "cell_type": "code",
      "metadata": {
        "id": "0CupbnNEfXI5"
      },
      "source": [
        "np_mtx2 = np.array([[1,2,3],[4,5,6]])"
      ],
      "execution_count": null,
      "outputs": []
    },
    {
      "cell_type": "code",
      "metadata": {
        "colab": {
          "base_uri": "https://localhost:8080/"
        },
        "id": "uc5f04UgfdPE",
        "outputId": "7d76a074-3e24-4354-b10f-1689db1e39c5"
      },
      "source": [
        "np_mtx.dot(np_mtx2)"
      ],
      "execution_count": null,
      "outputs": [
        {
          "output_type": "execute_result",
          "data": {
            "text/plain": [
              "array([[ 9, 12, 15],\n",
              "       [19, 26, 33]])"
            ]
          },
          "metadata": {
            "tags": []
          },
          "execution_count": 55
        }
      ]
    },
    {
      "cell_type": "code",
      "metadata": {
        "colab": {
          "base_uri": "https://localhost:8080/",
          "height": 167
        },
        "id": "XQH9SkpAfjmM",
        "outputId": "18fd53fc-42a2-4931-81cf-c40ce750b426"
      },
      "source": [
        "np_mtx.dot(np_mtx2.T)       # dimension not matching"
      ],
      "execution_count": null,
      "outputs": [
        {
          "output_type": "error",
          "ename": "ValueError",
          "evalue": "ignored",
          "traceback": [
            "\u001b[0;31m---------------------------------------------------------------------------\u001b[0m",
            "\u001b[0;31mValueError\u001b[0m                                Traceback (most recent call last)",
            "\u001b[0;32m<ipython-input-56-21f5838f447b>\u001b[0m in \u001b[0;36m<module>\u001b[0;34m()\u001b[0m\n\u001b[0;32m----> 1\u001b[0;31m \u001b[0mnp_mtx\u001b[0m\u001b[0;34m.\u001b[0m\u001b[0mdot\u001b[0m\u001b[0;34m(\u001b[0m\u001b[0mnp_mtx2\u001b[0m\u001b[0;34m.\u001b[0m\u001b[0mT\u001b[0m\u001b[0;34m)\u001b[0m\u001b[0;34m\u001b[0m\u001b[0;34m\u001b[0m\u001b[0m\n\u001b[0m",
            "\u001b[0;31mValueError\u001b[0m: shapes (2,2) and (3,2) not aligned: 2 (dim 1) != 3 (dim 0)"
          ]
        }
      ]
    },
    {
      "cell_type": "code",
      "metadata": {
        "colab": {
          "base_uri": "https://localhost:8080/"
        },
        "id": "2YTODHsLfzhN",
        "outputId": "2e2c4bd3-c493-4268-e5ab-03bd30d7133a"
      },
      "source": [
        "np.linalg.det(np_mtx)   #determinant"
      ],
      "execution_count": null,
      "outputs": [
        {
          "output_type": "execute_result",
          "data": {
            "text/plain": [
              "-2.0000000000000004"
            ]
          },
          "metadata": {
            "tags": []
          },
          "execution_count": 57
        }
      ]
    },
    {
      "cell_type": "code",
      "metadata": {
        "colab": {
          "base_uri": "https://localhost:8080/"
        },
        "id": "XOOqS-pvgBtp",
        "outputId": "89126ac1-79c0-45c1-c73b-814b25fedc4b"
      },
      "source": [
        "np.linalg.inv(np_mtx)   # matrix inverse"
      ],
      "execution_count": null,
      "outputs": [
        {
          "output_type": "execute_result",
          "data": {
            "text/plain": [
              "array([[-2. ,  1. ],\n",
              "       [ 1.5, -0.5]])"
            ]
          },
          "metadata": {
            "tags": []
          },
          "execution_count": 58
        }
      ]
    },
    {
      "cell_type": "code",
      "metadata": {
        "colab": {
          "base_uri": "https://localhost:8080/"
        },
        "id": "Dztk-wVWgHjO",
        "outputId": "594c286c-b327-4642-c99a-24efd4f259cc"
      },
      "source": [
        "np.linalg.inv(np_mtx).dot(np_mtx)   # return identity"
      ],
      "execution_count": null,
      "outputs": [
        {
          "output_type": "execute_result",
          "data": {
            "text/plain": [
              "array([[1.00000000e+00, 0.00000000e+00],\n",
              "       [1.11022302e-16, 1.00000000e+00]])"
            ]
          },
          "metadata": {
            "tags": []
          },
          "execution_count": 59
        }
      ]
    },
    {
      "cell_type": "markdown",
      "metadata": {
        "id": "AxaXKHPKhtqm"
      },
      "source": [
        "# Linear System"
      ]
    },
    {
      "cell_type": "markdown",
      "metadata": {
        "id": "x5BDm9ZHiDCY"
      },
      "source": [
        "x1 + x2 = 2200 <br>\r\n",
        "1.5x1 + 4x2 = 5050"
      ]
    },
    {
      "cell_type": "markdown",
      "metadata": {
        "id": "E8qW5hZpiM1D"
      },
      "source": [
        "![tmp.png](data:image/png;base64,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)"
      ]
    },
    {
      "cell_type": "code",
      "metadata": {
        "id": "p_LTfIrwhvT8"
      },
      "source": [
        "A = np.array([[1,1],[1.5,4]])\r\n",
        "b = np.array([2200,5050])"
      ],
      "execution_count": null,
      "outputs": []
    },
    {
      "cell_type": "code",
      "metadata": {
        "colab": {
          "base_uri": "https://localhost:8080/"
        },
        "id": "rAuSPZoPjKNB",
        "outputId": "700f84d7-319e-4a33-895b-e5ac3fc90bf3"
      },
      "source": [
        "np.linalg.solve(A,b)"
      ],
      "execution_count": null,
      "outputs": [
        {
          "output_type": "execute_result",
          "data": {
            "text/plain": [
              "array([1500.,  700.])"
            ]
          },
          "metadata": {
            "tags": []
          },
          "execution_count": 62
        }
      ]
    },
    {
      "cell_type": "markdown",
      "metadata": {
        "id": "AAMxh2Hcflk6"
      },
      "source": [
        ""
      ]
    },
    {
      "cell_type": "code",
      "metadata": {
        "colab": {
          "base_uri": "https://localhost:8080/"
        },
        "id": "Qn3Dyr5QjTw2",
        "outputId": "b90fe2c9-b50b-4bc7-f7b4-aeafe95bf5dc"
      },
      "source": [
        "np.linalg.inv(A).dot(b)     # don't use this because it's slow when features are too many"
      ],
      "execution_count": null,
      "outputs": [
        {
          "output_type": "execute_result",
          "data": {
            "text/plain": [
              "array([1500.,  700.])"
            ]
          },
          "metadata": {
            "tags": []
          },
          "execution_count": 63
        }
      ]
    },
    {
      "cell_type": "markdown",
      "metadata": {
        "id": "SPJoCWgzjfb0"
      },
      "source": [
        "# Generating Data"
      ]
    },
    {
      "cell_type": "code",
      "metadata": {
        "colab": {
          "base_uri": "https://localhost:8080/"
        },
        "id": "o5eunUcVgOdu",
        "outputId": "2b8a5359-647f-4c8c-d9c9-5c2789733e3c"
      },
      "source": [
        "np.array([0,1,2], dtype=np.int8)    # generate np array with list; optional: define data type"
      ],
      "execution_count": 2,
      "outputs": [
        {
          "output_type": "execute_result",
          "data": {
            "text/plain": [
              "array([0, 1, 2], dtype=int8)"
            ]
          },
          "metadata": {
            "tags": []
          },
          "execution_count": 2
        }
      ]
    },
    {
      "cell_type": "code",
      "metadata": {
        "colab": {
          "base_uri": "https://localhost:8080/"
        },
        "id": "kqboTo7AhPsH",
        "outputId": "71319e7f-32b6-47ac-9975-c470de0807ab"
      },
      "source": [
        "# Data Types\r\n",
        "# Boolean : np.bool_\r\n",
        "# Char : np.byte\r\n",
        "# Short : np.short\r\n",
        "# Integer : np.short\r\n",
        "# Long : np.int_\r\n",
        "# Float : np.single & np.float32\r\n",
        "# Double : np.double & np.float64\r\n",
        "# np.int8 : -128 to 127\r\n",
        "# np.int16 : -32768 to 32767\r\n",
        "# np.int32 : -2147483648 to 2147483647\r\n",
        "# np.int64 : -9223372036854775808 to 9223372036854775807\r\n",
        "\r\n",
        "np.array([0,1,3]).dtype"
      ],
      "execution_count": 12,
      "outputs": [
        {
          "output_type": "execute_result",
          "data": {
            "text/plain": [
              "dtype('int64')"
            ]
          },
          "metadata": {
            "tags": []
          },
          "execution_count": 12
        }
      ]
    },
    {
      "cell_type": "code",
      "metadata": {
        "colab": {
          "base_uri": "https://localhost:8080/"
        },
        "id": "E8RZ3UD0ghEI",
        "outputId": "7be46027-d64b-4c5f-f917-fe91a3ce5e2a"
      },
      "source": [
        "np.array([[0,1,2],[3,4,5]])    # generate np array with 2D list"
      ],
      "execution_count": 4,
      "outputs": [
        {
          "output_type": "execute_result",
          "data": {
            "text/plain": [
              "array([[0, 1, 2],\n",
              "       [3, 4, 5]])"
            ]
          },
          "metadata": {
            "tags": []
          },
          "execution_count": 4
        }
      ]
    },
    {
      "cell_type": "code",
      "metadata": {
        "colab": {
          "base_uri": "https://localhost:8080/"
        },
        "id": "Gb7Tt6Bpg10_",
        "outputId": "1c23868a-d4ac-4557-9aa2-783e3170bc9a"
      },
      "source": [
        "np.arange(0,10)"
      ],
      "execution_count": 5,
      "outputs": [
        {
          "output_type": "execute_result",
          "data": {
            "text/plain": [
              "array([0, 1, 2, 3, 4, 5, 6, 7, 8, 9])"
            ]
          },
          "metadata": {
            "tags": []
          },
          "execution_count": 5
        }
      ]
    },
    {
      "cell_type": "code",
      "metadata": {
        "colab": {
          "base_uri": "https://localhost:8080/"
        },
        "id": "60ZSQAtOg55m",
        "outputId": "ab785e9e-233f-4553-f1fb-afba44875428"
      },
      "source": [
        "np.linspace(0,5,3)"
      ],
      "execution_count": 7,
      "outputs": [
        {
          "output_type": "execute_result",
          "data": {
            "text/plain": [
              "array([0. , 2.5, 5. ])"
            ]
          },
          "metadata": {
            "tags": []
          },
          "execution_count": 7
        }
      ]
    },
    {
      "cell_type": "code",
      "metadata": {
        "colab": {
          "base_uri": "https://localhost:8080/"
        },
        "id": "6hsV1iu9jhgY",
        "outputId": "18090940-2e32-4084-9a15-4151c1be12e1"
      },
      "source": [
        "np.zeros((2,3))"
      ],
      "execution_count": null,
      "outputs": [
        {
          "output_type": "execute_result",
          "data": {
            "text/plain": [
              "array([[0., 0., 0.],\n",
              "       [0., 0., 0.]])"
            ]
          },
          "metadata": {
            "tags": []
          },
          "execution_count": 64
        }
      ]
    },
    {
      "cell_type": "code",
      "metadata": {
        "colab": {
          "base_uri": "https://localhost:8080/"
        },
        "id": "WfHtg2lxkWrM",
        "outputId": "0c22674c-874d-46ae-c230-7c01fc7e9528"
      },
      "source": [
        "np.ones((2,3))"
      ],
      "execution_count": null,
      "outputs": [
        {
          "output_type": "execute_result",
          "data": {
            "text/plain": [
              "array([[1., 1., 1.],\n",
              "       [1., 1., 1.]])"
            ]
          },
          "metadata": {
            "tags": []
          },
          "execution_count": 65
        }
      ]
    },
    {
      "cell_type": "code",
      "metadata": {
        "colab": {
          "base_uri": "https://localhost:8080/"
        },
        "id": "clyk6n9ahFMN",
        "outputId": "88866020-9f03-4a39-92b3-bfaf3dd43111"
      },
      "source": [
        "np.array([0,1,2,3]).size"
      ],
      "execution_count": 8,
      "outputs": [
        {
          "output_type": "execute_result",
          "data": {
            "text/plain": [
              "4"
            ]
          },
          "metadata": {
            "tags": []
          },
          "execution_count": 8
        }
      ]
    },
    {
      "cell_type": "code",
      "metadata": {
        "colab": {
          "base_uri": "https://localhost:8080/"
        },
        "id": "Tb8gMT0bkfSw",
        "outputId": "e9c953c2-fd65-44d3-bbe1-4a90517ad566"
      },
      "source": [
        "np.eye((3))     # Identity"
      ],
      "execution_count": null,
      "outputs": [
        {
          "output_type": "execute_result",
          "data": {
            "text/plain": [
              "array([[1., 0., 0.],\n",
              "       [0., 1., 0.],\n",
              "       [0., 0., 1.]])"
            ]
          },
          "metadata": {
            "tags": []
          },
          "execution_count": 66
        }
      ]
    },
    {
      "cell_type": "code",
      "metadata": {
        "colab": {
          "base_uri": "https://localhost:8080/"
        },
        "id": "levsZlDBkuaO",
        "outputId": "014a4de6-b5a5-453a-9cf9-05fcb3faecaa"
      },
      "source": [
        "np.random.random()          # a random number"
      ],
      "execution_count": null,
      "outputs": [
        {
          "output_type": "execute_result",
          "data": {
            "text/plain": [
              "0.8273531891676025"
            ]
          },
          "metadata": {
            "tags": []
          },
          "execution_count": 69
        }
      ]
    },
    {
      "cell_type": "code",
      "metadata": {
        "colab": {
          "base_uri": "https://localhost:8080/"
        },
        "id": "arRKnjiflCq2",
        "outputId": "020fc876-9177-4598-a8d0-42d6b57babfb"
      },
      "source": [
        "np.random.random((2,3))     # a random matrix"
      ],
      "execution_count": null,
      "outputs": [
        {
          "output_type": "execute_result",
          "data": {
            "text/plain": [
              "array([[0.32960537, 0.6002194 , 0.26628923],\n",
              "       [0.09034172, 0.55079183, 0.44527213]])"
            ]
          },
          "metadata": {
            "tags": []
          },
          "execution_count": 70
        }
      ]
    },
    {
      "cell_type": "code",
      "metadata": {
        "colab": {
          "base_uri": "https://localhost:8080/"
        },
        "id": "bW7G3ejAhk2Q",
        "outputId": "6d7f8a4a-cd99-4756-ef1b-80880b90db52"
      },
      "source": [
        "np.random.randint(10,50,3)  # a random array with integers"
      ],
      "execution_count": 20,
      "outputs": [
        {
          "output_type": "execute_result",
          "data": {
            "text/plain": [
              "array([13, 28, 14])"
            ]
          },
          "metadata": {
            "tags": []
          },
          "execution_count": 20
        }
      ]
    },
    {
      "cell_type": "code",
      "metadata": {
        "colab": {
          "base_uri": "https://localhost:8080/"
        },
        "id": "ihbCP9dsiI2T",
        "outputId": "0ac41534-e26a-43ee-b425-bfe764f9ffbd"
      },
      "source": [
        "np.random.randint(10,50, size=(2,3))  # a random matrix with integers"
      ],
      "execution_count": 21,
      "outputs": [
        {
          "output_type": "execute_result",
          "data": {
            "text/plain": [
              "array([[10, 14, 23],\n",
              "       [47, 35, 49]])"
            ]
          },
          "metadata": {
            "tags": []
          },
          "execution_count": 21
        }
      ]
    },
    {
      "cell_type": "code",
      "metadata": {
        "colab": {
          "base_uri": "https://localhost:8080/"
        },
        "id": "aBtVhERYlPoB",
        "outputId": "b081af7e-d8e0-4953-ae6e-c41cb1be9ccd"
      },
      "source": [
        "np.random.randn(2,3)        # a random matrix from normal distribution, mean=0 variance=1"
      ],
      "execution_count": null,
      "outputs": [
        {
          "output_type": "execute_result",
          "data": {
            "text/plain": [
              "array([[ 1.04844956, -0.46387992, -1.55240058],\n",
              "       [-1.36848239,  0.47371092, -0.82460889]])"
            ]
          },
          "metadata": {
            "tags": []
          },
          "execution_count": 74
        }
      ]
    },
    {
      "cell_type": "code",
      "metadata": {
        "colab": {
          "base_uri": "https://localhost:8080/"
        },
        "id": "Mifeyj8NloHt",
        "outputId": "26eb387b-4a3b-4386-a234-aaa77f776cb3"
      },
      "source": [
        "# test randn()\r\n",
        "R = np.random.randn(10000)\r\n",
        "print(f\"mean : {R.mean()}\")\r\n",
        "print(f\"variance : {R.var()}\")"
      ],
      "execution_count": null,
      "outputs": [
        {
          "output_type": "stream",
          "text": [
            "mean : -0.012174984318367544\n",
            "variance : 0.9932865432188238\n"
          ],
          "name": "stdout"
        }
      ]
    },
    {
      "cell_type": "markdown",
      "metadata": {
        "id": "pe-AoqgMgJhI"
      },
      "source": [
        "# Slicing & Indexes"
      ]
    },
    {
      "cell_type": "code",
      "metadata": {
        "id": "cq9AP6i6jgEv"
      },
      "source": [
        "np_arr = np.array([[1, 2, 3], [4, 5, 6], [7, 8, 9]])"
      ],
      "execution_count": 52,
      "outputs": []
    },
    {
      "cell_type": "code",
      "metadata": {
        "colab": {
          "base_uri": "https://localhost:8080/"
        },
        "id": "2JB3-f_qmRfK",
        "outputId": "829acc94-754d-478c-9535-d7ac7f8bec63"
      },
      "source": [
        "np_flattened = np_arr.flatten()\r\n",
        "np_flattened"
      ],
      "execution_count": 64,
      "outputs": [
        {
          "output_type": "execute_result",
          "data": {
            "text/plain": [
              "array([1, 2, 3, 4, 5, 6, 7, 8, 9])"
            ]
          },
          "metadata": {
            "tags": []
          },
          "execution_count": 64
        }
      ]
    },
    {
      "cell_type": "code",
      "metadata": {
        "colab": {
          "base_uri": "https://localhost:8080/"
        },
        "id": "5V-ruCy7ijtV",
        "outputId": "d1150f9e-308d-43b8-ebd6-c605aa282cc8"
      },
      "source": [
        "np_arr[0,1]    # get element by coordinate"
      ],
      "execution_count": 28,
      "outputs": [
        {
          "output_type": "execute_result",
          "data": {
            "text/plain": [
              "2"
            ]
          },
          "metadata": {
            "tags": []
          },
          "execution_count": 28
        }
      ]
    },
    {
      "cell_type": "code",
      "metadata": {
        "colab": {
          "base_uri": "https://localhost:8080/"
        },
        "id": "_PViUMs1i-t9",
        "outputId": "57e8eb23-e46f-4a2f-bbc5-9cb62071d1f5"
      },
      "source": [
        "np.take(np_arr, [0, 3, 6]) # flatten matrix and get element by coordinate"
      ],
      "execution_count": 30,
      "outputs": [
        {
          "output_type": "execute_result",
          "data": {
            "text/plain": [
              "array([1, 4, 7])"
            ]
          },
          "metadata": {
            "tags": []
          },
          "execution_count": 30
        }
      ]
    },
    {
      "cell_type": "code",
      "metadata": {
        "colab": {
          "base_uri": "https://localhost:8080/"
        },
        "id": "J1NRPUGAkWGJ",
        "outputId": "bb5c2c06-1fd9-4c55-ace0-faf03a0ee416"
      },
      "source": [
        "np.take(np_arr, [0, 2], axis=1)     #  get first and third by column (axis = 1)"
      ],
      "execution_count": 45,
      "outputs": [
        {
          "output_type": "execute_result",
          "data": {
            "text/plain": [
              "array([[1, 3],\n",
              "       [4, 6],\n",
              "       [7, 9]])"
            ]
          },
          "metadata": {
            "tags": []
          },
          "execution_count": 45
        }
      ]
    },
    {
      "cell_type": "code",
      "metadata": {
        "colab": {
          "base_uri": "https://localhost:8080/"
        },
        "id": "zmJ2_1N2j9cP",
        "outputId": "869a8c3e-7788-4d7c-ec39-1754ef9172f7"
      },
      "source": [
        "np_arr2 = np_arr.copy()\r\n",
        "np.put(np_arr2, [0, 3, 6], [10, 10, 10])     # replace value by indexes (no axis param)\r\n",
        "np_arr2"
      ],
      "execution_count": 55,
      "outputs": [
        {
          "output_type": "execute_result",
          "data": {
            "text/plain": [
              "array([[10,  2,  3],\n",
              "       [10,  5,  6],\n",
              "       [10,  8,  9]])"
            ]
          },
          "metadata": {
            "tags": []
          },
          "execution_count": 55
        }
      ]
    },
    {
      "cell_type": "code",
      "metadata": {
        "colab": {
          "base_uri": "https://localhost:8080/"
        },
        "id": "lolHWIL7l-x6",
        "outputId": "9dd89f2a-e45d-496f-8028-93e908752527"
      },
      "source": [
        "np_flattened[0:5:2]   # [start:stop:step]"
      ],
      "execution_count": 65,
      "outputs": [
        {
          "output_type": "execute_result",
          "data": {
            "text/plain": [
              "array([1, 3, 5])"
            ]
          },
          "metadata": {
            "tags": []
          },
          "execution_count": 65
        }
      ]
    },
    {
      "cell_type": "code",
      "metadata": {
        "colab": {
          "base_uri": "https://localhost:8080/"
        },
        "id": "ZP2hvzQUmyZK",
        "outputId": "1a3e2aa5-467d-41ca-ac54-c253ce35d5d5"
      },
      "source": [
        "np_arr[0:3:2]       # start=first array, stop = third array, increase by 2 array"
      ],
      "execution_count": 70,
      "outputs": [
        {
          "output_type": "execute_result",
          "data": {
            "text/plain": [
              "array([[1, 2, 3],\n",
              "       [7, 8, 9]])"
            ]
          },
          "metadata": {
            "tags": []
          },
          "execution_count": 70
        }
      ]
    },
    {
      "cell_type": "code",
      "metadata": {
        "colab": {
          "base_uri": "https://localhost:8080/"
        },
        "id": "kYFUf8dlnMQ9",
        "outputId": "621d6499-247d-4023-f565-2e2118570141"
      },
      "source": [
        "np_arr[:,1]     #[all row : second column]"
      ],
      "execution_count": 72,
      "outputs": [
        {
          "output_type": "execute_result",
          "data": {
            "text/plain": [
              "array([2, 5, 8])"
            ]
          },
          "metadata": {
            "tags": []
          },
          "execution_count": 72
        }
      ]
    },
    {
      "cell_type": "code",
      "metadata": {
        "colab": {
          "base_uri": "https://localhost:8080/"
        },
        "id": "rthLwr2EnVRd",
        "outputId": "b2016633-0381-4e4e-8484-a7397f2513f2"
      },
      "source": [
        "np_arr[::-1]  # flip arrays in array; [first array : last array : backward one step each]"
      ],
      "execution_count": 81,
      "outputs": [
        {
          "output_type": "execute_result",
          "data": {
            "text/plain": [
              "array([[7, 8, 9],\n",
              "       [4, 5, 6]])"
            ]
          },
          "metadata": {
            "tags": []
          },
          "execution_count": 81
        }
      ]
    },
    {
      "cell_type": "code",
      "metadata": {
        "colab": {
          "base_uri": "https://localhost:8080/"
        },
        "id": "AUmNIC41oL5R",
        "outputId": "31204c85-b68f-4852-9f90-6c709dc47b67"
      },
      "source": [
        "np_arr[np_arr > 4]  # get only value > 5 (flattened)"
      ],
      "execution_count": 84,
      "outputs": [
        {
          "output_type": "execute_result",
          "data": {
            "text/plain": [
              "array([5, 6, 7, 8, 9])"
            ]
          },
          "metadata": {
            "tags": []
          },
          "execution_count": 84
        }
      ]
    },
    {
      "cell_type": "code",
      "metadata": {
        "colab": {
          "base_uri": "https://localhost:8080/"
        },
        "id": "DGkWiA_UobTa",
        "outputId": "c53fa03a-c58d-4567-a0f0-a476f396d461"
      },
      "source": [
        "np_arr[((np_arr > 5) & (np_arr < 7)) | (np_arr == 9)]       # more conditions"
      ],
      "execution_count": 89,
      "outputs": [
        {
          "output_type": "execute_result",
          "data": {
            "text/plain": [
              "array([6, 9])"
            ]
          },
          "metadata": {
            "tags": []
          },
          "execution_count": 89
        }
      ]
    },
    {
      "cell_type": "code",
      "metadata": {
        "colab": {
          "base_uri": "https://localhost:8080/"
        },
        "id": "9ySVguU6o5w5",
        "outputId": "f48ecb28-b338-4c52-ca2a-689577dbacba"
      },
      "source": [
        "np_arr[np_arr%2==0]     # get even numbers"
      ],
      "execution_count": 90,
      "outputs": [
        {
          "output_type": "execute_result",
          "data": {
            "text/plain": [
              "array([2, 4, 6, 8])"
            ]
          },
          "metadata": {
            "tags": []
          },
          "execution_count": 90
        }
      ]
    },
    {
      "cell_type": "code",
      "metadata": {
        "colab": {
          "base_uri": "https://localhost:8080/"
        },
        "id": "nnjsmrsfpBQp",
        "outputId": "8bd8c4e8-5a09-4c1d-dbe2-71a76956459d"
      },
      "source": [
        "np_arr2 = np_arr.copy()\r\n",
        "np_arr2[0] = [10,10,10]\r\n",
        "np.unique(np_arr)       # get unique elements"
      ],
      "execution_count": 92,
      "outputs": [
        {
          "output_type": "execute_result",
          "data": {
            "text/plain": [
              "array([ 4,  5,  6,  7,  8,  9, 10])"
            ]
          },
          "metadata": {
            "tags": []
          },
          "execution_count": 92
        }
      ]
    },
    {
      "cell_type": "markdown",
      "metadata": {
        "id": "tNLbO3jMpYwx"
      },
      "source": [
        "# Reshaping"
      ]
    },
    {
      "cell_type": "code",
      "metadata": {
        "id": "JOSmofhOpcR8"
      },
      "source": [
        "np_arr = np.array([[1, 2, 3], [4, 5, 6], [7, 8, 9]])"
      ],
      "execution_count": 99,
      "outputs": []
    },
    {
      "cell_type": "code",
      "metadata": {
        "colab": {
          "base_uri": "https://localhost:8080/"
        },
        "id": "Y_YIPRCkphSo",
        "outputId": "b1561b7c-1ab0-4e35-a65d-77b26c1e3f61"
      },
      "source": [
        "np_arr.reshape((1,9))       # reshape 3x3 to 1x9"
      ],
      "execution_count": 94,
      "outputs": [
        {
          "output_type": "execute_result",
          "data": {
            "text/plain": [
              "array([[1, 2, 3, 4, 5, 6, 7, 8, 9]])"
            ]
          },
          "metadata": {
            "tags": []
          },
          "execution_count": 94
        }
      ]
    },
    {
      "cell_type": "code",
      "metadata": {
        "colab": {
          "base_uri": "https://localhost:8080/"
        },
        "id": "eAj12ea0ppa5",
        "outputId": "9b9fa3af-5ff2-44ea-9d18-4e1ff8b37884"
      },
      "source": [
        "np_arr2 = np_arr.copy()\r\n",
        "np_arr2.resize((2,5))\r\n",
        "np_arr2     # reshape to inconsistent size, add 0 if insufficient element, remove tail if extra element"
      ],
      "execution_count": 100,
      "outputs": [
        {
          "output_type": "execute_result",
          "data": {
            "text/plain": [
              "array([[1, 2, 3, 4, 5],\n",
              "       [6, 7, 8, 9, 0]])"
            ]
          },
          "metadata": {
            "tags": []
          },
          "execution_count": 100
        }
      ]
    },
    {
      "cell_type": "code",
      "metadata": {
        "colab": {
          "base_uri": "https://localhost:8080/"
        },
        "id": "JBCLjUxqqOnK",
        "outputId": "af64338c-952d-433e-f7d8-592492dcc74d"
      },
      "source": [
        "np_arr2 = np_arr.copy()\r\n",
        "np_arr2.resize((2,4))\r\n",
        "np_arr2"
      ],
      "execution_count": 101,
      "outputs": [
        {
          "output_type": "execute_result",
          "data": {
            "text/plain": [
              "array([[1, 2, 3, 4],\n",
              "       [5, 6, 7, 8]])"
            ]
          },
          "metadata": {
            "tags": []
          },
          "execution_count": 101
        }
      ]
    },
    {
      "cell_type": "code",
      "metadata": {
        "colab": {
          "base_uri": "https://localhost:8080/"
        },
        "id": "Wvd_e3gHqT10",
        "outputId": "674f907e-f1b7-4703-be6e-2b7fe4319372"
      },
      "source": [
        "np_arr.transpose()  # not inplace"
      ],
      "execution_count": 102,
      "outputs": [
        {
          "output_type": "execute_result",
          "data": {
            "text/plain": [
              "array([[1, 4, 7],\n",
              "       [2, 5, 8],\n",
              "       [3, 6, 9]])"
            ]
          },
          "metadata": {
            "tags": []
          },
          "execution_count": 102
        }
      ]
    },
    {
      "cell_type": "code",
      "metadata": {
        "colab": {
          "base_uri": "https://localhost:8080/"
        },
        "id": "I4HRIVikqYFC",
        "outputId": "d4887b34-646d-403b-eb84-d8ff4e393dfd"
      },
      "source": [
        "np_arr.swapaxes(0,1) # not inplace; swap rows with columns"
      ],
      "execution_count": 110,
      "outputs": [
        {
          "output_type": "execute_result",
          "data": {
            "text/plain": [
              "array([[1, 4, 7],\n",
              "       [2, 5, 8],\n",
              "       [3, 6, 9]])"
            ]
          },
          "metadata": {
            "tags": []
          },
          "execution_count": 110
        }
      ]
    },
    {
      "cell_type": "code",
      "metadata": {
        "colab": {
          "base_uri": "https://localhost:8080/"
        },
        "id": "7j4YngcAq1DA",
        "outputId": "58965eaa-508c-4ec4-ce7e-d82a873b4e1d"
      },
      "source": [
        "np_arr.flatten()"
      ],
      "execution_count": 111,
      "outputs": [
        {
          "output_type": "execute_result",
          "data": {
            "text/plain": [
              "array([1, 2, 3, 4, 5, 6, 7, 8, 9])"
            ]
          },
          "metadata": {
            "tags": []
          },
          "execution_count": 111
        }
      ]
    },
    {
      "cell_type": "code",
      "metadata": {
        "colab": {
          "base_uri": "https://localhost:8080/"
        },
        "id": "v93-EbNDq5ME",
        "outputId": "4196f443-1646-48ec-da9a-3c430f30ed93"
      },
      "source": [
        "np_arr.flatten('F')     # by column"
      ],
      "execution_count": 112,
      "outputs": [
        {
          "output_type": "execute_result",
          "data": {
            "text/plain": [
              "array([1, 4, 7, 2, 5, 8, 3, 6, 9])"
            ]
          },
          "metadata": {
            "tags": []
          },
          "execution_count": 112
        }
      ]
    },
    {
      "cell_type": "code",
      "metadata": {
        "colab": {
          "base_uri": "https://localhost:8080/"
        },
        "id": "Cu5RNPF8rBfi",
        "outputId": "71470e3e-536d-4123-ff7c-955ea8c154f8"
      },
      "source": [
        "np_arr3 = np.array([[1, 7, 3], [4, 9, 6], [2, 8, 5]])\r\n",
        "np_arr3.sort(axis=1)    # sort by row\r\n",
        "np_arr3"
      ],
      "execution_count": 119,
      "outputs": [
        {
          "output_type": "execute_result",
          "data": {
            "text/plain": [
              "array([[1, 3, 7],\n",
              "       [4, 6, 9],\n",
              "       [2, 5, 8]])"
            ]
          },
          "metadata": {
            "tags": []
          },
          "execution_count": 119
        }
      ]
    },
    {
      "cell_type": "code",
      "metadata": {
        "colab": {
          "base_uri": "https://localhost:8080/"
        },
        "id": "sKz5YgLwrdIl",
        "outputId": "702ac005-720e-4215-8e2d-012a6411426e"
      },
      "source": [
        "np_arr3 = np.array([[1, 7, 3], [4, 9, 6], [2, 8, 5]])\r\n",
        "np_arr3.sort(axis=0)    # sort by column\r\n",
        "np_arr3"
      ],
      "execution_count": 120,
      "outputs": [
        {
          "output_type": "execute_result",
          "data": {
            "text/plain": [
              "array([[1, 7, 3],\n",
              "       [2, 8, 5],\n",
              "       [4, 9, 6]])"
            ]
          },
          "metadata": {
            "tags": []
          },
          "execution_count": 120
        }
      ]
    }
  ]
}
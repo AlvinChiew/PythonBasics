{
  "nbformat": 4,
  "nbformat_minor": 0,
  "metadata": {
    "colab": {
      "name": "PyCodeQuality.ipynb",
      "provenance": [],
      "collapsed_sections": [
        "fKyCzIWosDuK"
      ],
      "toc_visible": true,
      "authorship_tag": "ABX9TyNlPUuIhxYaQ7+pkflhb0ep",
      "include_colab_link": true
    },
    "kernelspec": {
      "name": "python3",
      "display_name": "Python 3"
    }
  },
  "cells": [
    {
      "cell_type": "markdown",
      "metadata": {
        "id": "view-in-github",
        "colab_type": "text"
      },
      "source": [
        "<a href=\"https://colab.research.google.com/github/AlvinChiew/PythonBasics/blob/main/PyCodeQuality.ipynb\" target=\"_parent\"><img src=\"https://colab.research.google.com/assets/colab-badge.svg\" alt=\"Open In Colab\"/></a>"
      ]
    },
    {
      "cell_type": "markdown",
      "metadata": {
        "id": "YdsW-zaEfblG"
      },
      "source": [
        "# Reference"
      ]
    },
    {
      "cell_type": "markdown",
      "metadata": {
        "id": "4E6WUd2HgsPF"
      },
      "source": [
        "PEP8 (Style Guide for Python Code) : \n",
        "    \n",
        "\n",
        "*   References\n",
        "    *   https://www.python.org/dev/peps/pep-0008/\n",
        "    *   https://pep8.org/\n",
        "*   Guidelines\n",
        "    *   Formatting (code & comments)\n",
        "    *   Whitespace/punctuation (Indentation, quotes, operators...)\n",
        "    *   Namming (classes, functions, variables...)\n",
        "    *   Checking Tools"
      ]
    },
    {
      "cell_type": "markdown",
      "metadata": {
        "id": "m_BVPaVfjGir"
      },
      "source": [
        "# Guidelines"
      ]
    },
    {
      "cell_type": "markdown",
      "metadata": {
        "id": "_QQY_Do0gcOt"
      },
      "source": [
        "Layout\n",
        "*   Indentation - 4 spaces\n",
        "*   Max length in single line - 79 chars\n",
        "*   2 lines between top-level functions and classes\n",
        "*   1 line between methods in a class\n",
        "*   space between expressions"
      ]
    },
    {
      "cell_type": "markdown",
      "metadata": {
        "id": "Equ_j041hzX9"
      },
      "source": [
        "Imports\n",
        "*   coded in separate line\n",
        "*   3 groups separated by 1 line\n",
        "    *   standard library\n",
        "    *   3rd_party library\n",
        "    *   local module\n"
      ]
    },
    {
      "cell_type": "markdown",
      "metadata": {
        "id": "qiQKI27uiRm6"
      },
      "source": [
        "Naming\n",
        "*   Modules - short, lowercase\n",
        "*   classes - camel case\n",
        "*   Functions - snake case\n",
        "*   Constant - ALL_CAPS\n",
        "*   Private name - _start_with_underscore"
      ]
    },
    {
      "cell_type": "markdown",
      "metadata": {
        "id": "VWa0Bi9mhvCh"
      },
      "source": [
        "Documentation\n",
        "*   Include DocStrings for all public modules, functions, classes, methods"
      ]
    },
    {
      "cell_type": "markdown",
      "metadata": {
        "id": "ch-orfmKjKkv"
      },
      "source": [
        "# Tools"
      ]
    },
    {
      "cell_type": "markdown",
      "metadata": {
        "id": "A1XW_3_AjN7H"
      },
      "source": [
        "*   pylint       \n",
        "    *   check for PEP8 with code style warning & manipulation\n",
        "*   pycodestyle\n",
        "    *   only check for PEP8 compliance\n",
        "*   black \n",
        "    *   auto-fixes PEP8 violation\n",
        "\n"
      ]
    },
    {
      "cell_type": "markdown",
      "metadata": {
        "id": "ALNYcvLujvkT"
      },
      "source": [
        "## Demo"
      ]
    },
    {
      "cell_type": "code",
      "metadata": {
        "colab": {
          "base_uri": "https://localhost:8080/"
        },
        "id": "RByEsEOgll-z",
        "outputId": "3a7fa1ed-dcda-4a81-ed7c-6c83dd131ea2"
      },
      "source": [
        "from google.colab import drive\n",
        "drive.mount('/content/drive/')"
      ],
      "execution_count": null,
      "outputs": [
        {
          "output_type": "stream",
          "text": [
            "Mounted at /content/drive/\n"
          ],
          "name": "stdout"
        }
      ]
    },
    {
      "cell_type": "markdown",
      "metadata": {
        "id": "6nScgxchsA9P"
      },
      "source": [
        "## Pylint"
      ]
    },
    {
      "cell_type": "code",
      "metadata": {
        "colab": {
          "base_uri": "https://localhost:8080/"
        },
        "id": "41TxXs7GjzQR",
        "outputId": "1bfd9652-06ab-49c8-ead3-bdedb81e5616"
      },
      "source": [
        "# check PEP8 and code style\n",
        "pip install pylint"
      ],
      "execution_count": null,
      "outputs": [
        {
          "output_type": "stream",
          "text": [
            "Collecting pylint\n",
            "\u001b[?25l  Downloading https://files.pythonhosted.org/packages/fb/13/519c1264a134beab2be4bac8dd3e64948980a5ca7833b31cf0255b21f20a/pylint-2.6.0-py3-none-any.whl (325kB)\n",
            "\u001b[K     |████████████████████████████████| 327kB 12.4MB/s \n",
            "\u001b[?25hCollecting astroid<=2.5,>=2.4.0\n",
            "\u001b[?25l  Downloading https://files.pythonhosted.org/packages/24/a8/5133f51967fb21e46ee50831c3f5dda49e976b7f915408d670b1603d41d6/astroid-2.4.2-py3-none-any.whl (213kB)\n",
            "\u001b[K     |████████████████████████████████| 215kB 21.4MB/s \n",
            "\u001b[?25hCollecting isort<6,>=4.2.5\n",
            "\u001b[?25l  Downloading https://files.pythonhosted.org/packages/ee/e3/75cacbe65a236934860880547fc612e8e3856b5cc3844a8beddae05e7b60/isort-5.6.4-py3-none-any.whl (98kB)\n",
            "\u001b[K     |████████████████████████████████| 102kB 6.8MB/s \n",
            "\u001b[?25hCollecting mccabe<0.7,>=0.6\n",
            "  Downloading https://files.pythonhosted.org/packages/87/89/479dc97e18549e21354893e4ee4ef36db1d237534982482c3681ee6e7b57/mccabe-0.6.1-py2.py3-none-any.whl\n",
            "Requirement already satisfied: toml>=0.7.1 in /usr/local/lib/python3.6/dist-packages (from pylint) (0.10.2)\n",
            "Requirement already satisfied: wrapt~=1.11 in /usr/local/lib/python3.6/dist-packages (from astroid<=2.5,>=2.4.0->pylint) (1.12.1)\n",
            "Requirement already satisfied: six~=1.12 in /usr/local/lib/python3.6/dist-packages (from astroid<=2.5,>=2.4.0->pylint) (1.15.0)\n",
            "Collecting lazy-object-proxy==1.4.*\n",
            "\u001b[?25l  Downloading https://files.pythonhosted.org/packages/0b/dd/b1e3407e9e6913cf178e506cd0dee818e58694d9a5cd1984e3f6a8b9a10f/lazy_object_proxy-1.4.3-cp36-cp36m-manylinux1_x86_64.whl (55kB)\n",
            "\u001b[K     |████████████████████████████████| 61kB 7.0MB/s \n",
            "\u001b[?25hCollecting typed-ast<1.5,>=1.4.0; implementation_name == \"cpython\" and python_version < \"3.8\"\n",
            "\u001b[?25l  Downloading https://files.pythonhosted.org/packages/90/ed/5459080d95eb87a02fe860d447197be63b6e2b5e9ff73c2b0a85622994f4/typed_ast-1.4.1-cp36-cp36m-manylinux1_x86_64.whl (737kB)\n",
            "\u001b[K     |████████████████████████████████| 747kB 28.2MB/s \n",
            "\u001b[?25hInstalling collected packages: lazy-object-proxy, typed-ast, astroid, isort, mccabe, pylint\n",
            "Successfully installed astroid-2.4.2 isort-5.6.4 lazy-object-proxy-1.4.3 mccabe-0.6.1 pylint-2.6.0 typed-ast-1.4.1\n"
          ],
          "name": "stdout"
        }
      ]
    },
    {
      "cell_type": "code",
      "metadata": {
        "colab": {
          "base_uri": "https://localhost:8080/"
        },
        "id": "htIxWNzEmtrM",
        "outputId": "f47f13bb-9c9b-4d2a-8037-a986b53b9c63"
      },
      "source": [
        "!pylint /content/drive/MyDrive/'Colab Notebooks'/data/PEP8_Tools\n",
        "\n",
        "# add \"# pylint: disable=invalid-name\" above first code line to escape (invalid-name) errors"
      ],
      "execution_count": null,
      "outputs": [
        {
          "output_type": "stream",
          "text": [
            "************* Module PEP8_Tools\n",
            "drive/MyDrive/Colab Notebooks/data/PEP8_Tools/__init__.py:1:0: C0103: Module name \"PEP8_Tools\" doesn't conform to snake_case naming style (invalid-name)\n",
            "************* Module PEP8_Tools.weapons\n",
            "drive/MyDrive/Colab Notebooks/data/PEP8_Tools/weapons.py:14:0: R0903: Too few public methods (1/2) (too-few-public-methods)\n",
            "drive/MyDrive/Colab Notebooks/data/PEP8_Tools/weapons.py:31:4: W0221: Parameters differ from overridden 'attack' method (arguments-differ)\n",
            "drive/MyDrive/Colab Notebooks/data/PEP8_Tools/weapons.py:27:0: R0903: Too few public methods (1/2) (too-few-public-methods)\n",
            "drive/MyDrive/Colab Notebooks/data/PEP8_Tools/weapons.py:45:4: W0221: Parameters differ from overridden 'attack' method (arguments-differ)\n",
            "drive/MyDrive/Colab Notebooks/data/PEP8_Tools/weapons.py:46:8: R1705: Unnecessary \"else\" after \"return\" (no-else-return)\n",
            "drive/MyDrive/Colab Notebooks/data/PEP8_Tools/weapons.py:35:0: R0903: Too few public methods (1/2) (too-few-public-methods)\n",
            "************* Module PEP8_Tools.player\n",
            "drive/MyDrive/Colab Notebooks/data/PEP8_Tools/player.py:21:4: C0116: Missing function or method docstring (missing-function-docstring)\n",
            "************* Module PEP8_Tools.game\n",
            "drive/MyDrive/Colab Notebooks/data/PEP8_Tools/game.py:18:0: W0311: Bad indentation. Found 7 spaces, expected 8 (bad-indentation)\n",
            "drive/MyDrive/Colab Notebooks/data/PEP8_Tools/game.py:19:0: W0311: Bad indentation. Found 7 spaces, expected 8 (bad-indentation)\n",
            "drive/MyDrive/Colab Notebooks/data/PEP8_Tools/game.py:41:38: C0303: Trailing whitespace (trailing-whitespace)\n",
            "drive/MyDrive/Colab Notebooks/data/PEP8_Tools/game.py:13:0: E0401: Unable to import 'gamedemo.weapons' (import-error)\n",
            "drive/MyDrive/Colab Notebooks/data/PEP8_Tools/game.py:14:0: E0401: Unable to import 'gamedemo.player' (import-error)\n",
            "drive/MyDrive/Colab Notebooks/data/PEP8_Tools/game.py:18:7: C0103: Attribute name \"p1\" doesn't conform to snake_case naming style (invalid-name)\n",
            "drive/MyDrive/Colab Notebooks/data/PEP8_Tools/game.py:19:7: C0103: Attribute name \"p2\" doesn't conform to snake_case naming style (invalid-name)\n",
            "drive/MyDrive/Colab Notebooks/data/PEP8_Tools/game.py:16:0: C0115: Missing class docstring (missing-class-docstring)\n",
            "drive/MyDrive/Colab Notebooks/data/PEP8_Tools/game.py:21:4: C0116: Missing function or method docstring (missing-function-docstring)\n",
            "drive/MyDrive/Colab Notebooks/data/PEP8_Tools/game.py:16:0: R0903: Too few public methods (1/2) (too-few-public-methods)\n",
            "\n",
            "-----------------------------------\n",
            "Your code has been rated at 5.74/10\n",
            "\n"
          ],
          "name": "stdout"
        }
      ]
    },
    {
      "cell_type": "code",
      "metadata": {
        "id": "CQbiU_L-rXxc"
      },
      "source": [
        "!pylint --generate-rcfile > pylintrc\n",
        "\n",
        "# add \"p1\" and \"p2\" under 'good-names= ...' to whitelist names"
      ],
      "execution_count": null,
      "outputs": []
    },
    {
      "cell_type": "code",
      "metadata": {
        "colab": {
          "base_uri": "https://localhost:8080/"
        },
        "id": "MTg-zMOkrjaw",
        "outputId": "8a6d0de5-17cc-4033-9d71-cc5c6aa6413b"
      },
      "source": [
        "!cat pylintrc"
      ],
      "execution_count": null,
      "outputs": [
        {
          "output_type": "stream",
          "text": [
            "[MASTER]\n",
            "\n",
            "# A comma-separated list of package or module names from where C extensions may\n",
            "# be loaded. Extensions are loading into the active Python interpreter and may\n",
            "# run arbitrary code.\n",
            "extension-pkg-whitelist=\n",
            "\n",
            "# Specify a score threshold to be exceeded before program exits with error.\n",
            "fail-under=10.0\n",
            "\n",
            "# Add files or directories to the blacklist. They should be base names, not\n",
            "# paths.\n",
            "ignore=CVS\n",
            "\n",
            "# Add files or directories matching the regex patterns to the blacklist. The\n",
            "# regex matches against base names, not paths.\n",
            "ignore-patterns=\n",
            "\n",
            "# Python code to execute, usually for sys.path manipulation such as\n",
            "# pygtk.require().\n",
            "#init-hook=\n",
            "\n",
            "# Use multiple processes to speed up Pylint. Specifying 0 will auto-detect the\n",
            "# number of processors available to use.\n",
            "jobs=1\n",
            "\n",
            "# Control the amount of potential inferred values when inferring a single\n",
            "# object. This can help the performance when dealing with large functions or\n",
            "# complex, nested conditions.\n",
            "limit-inference-results=100\n",
            "\n",
            "# List of plugins (as comma separated values of python module names) to load,\n",
            "# usually to register additional checkers.\n",
            "load-plugins=\n",
            "\n",
            "# Pickle collected data for later comparisons.\n",
            "persistent=yes\n",
            "\n",
            "# When enabled, pylint would attempt to guess common misconfiguration and emit\n",
            "# user-friendly hints instead of false-positive error messages.\n",
            "suggestion-mode=yes\n",
            "\n",
            "# Allow loading of arbitrary C extensions. Extensions are imported into the\n",
            "# active Python interpreter and may run arbitrary code.\n",
            "unsafe-load-any-extension=no\n",
            "\n",
            "\n",
            "[MESSAGES CONTROL]\n",
            "\n",
            "# Only show warnings with the listed confidence levels. Leave empty to show\n",
            "# all. Valid levels: HIGH, INFERENCE, INFERENCE_FAILURE, UNDEFINED.\n",
            "confidence=\n",
            "\n",
            "# Disable the message, report, category or checker with the given id(s). You\n",
            "# can either give multiple identifiers separated by comma (,) or put this\n",
            "# option multiple times (only on the command line, not in the configuration\n",
            "# file where it should appear only once). You can also use \"--disable=all\" to\n",
            "# disable everything first and then reenable specific checks. For example, if\n",
            "# you want to run only the similarities checker, you can use \"--disable=all\n",
            "# --enable=similarities\". If you want to run only the classes checker, but have\n",
            "# no Warning level messages displayed, use \"--disable=all --enable=classes\n",
            "# --disable=W\".\n",
            "disable=print-statement,\n",
            "        parameter-unpacking,\n",
            "        unpacking-in-except,\n",
            "        old-raise-syntax,\n",
            "        backtick,\n",
            "        long-suffix,\n",
            "        old-ne-operator,\n",
            "        old-octal-literal,\n",
            "        import-star-module-level,\n",
            "        non-ascii-bytes-literal,\n",
            "        raw-checker-failed,\n",
            "        bad-inline-option,\n",
            "        locally-disabled,\n",
            "        file-ignored,\n",
            "        suppressed-message,\n",
            "        useless-suppression,\n",
            "        deprecated-pragma,\n",
            "        use-symbolic-message-instead,\n",
            "        apply-builtin,\n",
            "        basestring-builtin,\n",
            "        buffer-builtin,\n",
            "        cmp-builtin,\n",
            "        coerce-builtin,\n",
            "        execfile-builtin,\n",
            "        file-builtin,\n",
            "        long-builtin,\n",
            "        raw_input-builtin,\n",
            "        reduce-builtin,\n",
            "        standarderror-builtin,\n",
            "        unicode-builtin,\n",
            "        xrange-builtin,\n",
            "        coerce-method,\n",
            "        delslice-method,\n",
            "        getslice-method,\n",
            "        setslice-method,\n",
            "        no-absolute-import,\n",
            "        old-division,\n",
            "        dict-iter-method,\n",
            "        dict-view-method,\n",
            "        next-method-called,\n",
            "        metaclass-assignment,\n",
            "        indexing-exception,\n",
            "        raising-string,\n",
            "        reload-builtin,\n",
            "        oct-method,\n",
            "        hex-method,\n",
            "        nonzero-method,\n",
            "        cmp-method,\n",
            "        input-builtin,\n",
            "        round-builtin,\n",
            "        intern-builtin,\n",
            "        unichr-builtin,\n",
            "        map-builtin-not-iterating,\n",
            "        zip-builtin-not-iterating,\n",
            "        range-builtin-not-iterating,\n",
            "        filter-builtin-not-iterating,\n",
            "        using-cmp-argument,\n",
            "        eq-without-hash,\n",
            "        div-method,\n",
            "        idiv-method,\n",
            "        rdiv-method,\n",
            "        exception-message-attribute,\n",
            "        invalid-str-codec,\n",
            "        sys-max-int,\n",
            "        bad-python3-import,\n",
            "        deprecated-string-function,\n",
            "        deprecated-str-translate-call,\n",
            "        deprecated-itertools-function,\n",
            "        deprecated-types-field,\n",
            "        next-method-defined,\n",
            "        dict-items-not-iterating,\n",
            "        dict-keys-not-iterating,\n",
            "        dict-values-not-iterating,\n",
            "        deprecated-operator-function,\n",
            "        deprecated-urllib-function,\n",
            "        xreadlines-attribute,\n",
            "        deprecated-sys-function,\n",
            "        exception-escape,\n",
            "        comprehension-escape\n",
            "\n",
            "# Enable the message, report, category or checker with the given id(s). You can\n",
            "# either give multiple identifier separated by comma (,) or put this option\n",
            "# multiple time (only on the command line, not in the configuration file where\n",
            "# it should appear only once). See also the \"--disable\" option for examples.\n",
            "enable=c-extension-no-member\n",
            "\n",
            "\n",
            "[REPORTS]\n",
            "\n",
            "# Python expression which should return a score less than or equal to 10. You\n",
            "# have access to the variables 'error', 'warning', 'refactor', and 'convention'\n",
            "# which contain the number of messages in each category, as well as 'statement'\n",
            "# which is the total number of statements analyzed. This score is used by the\n",
            "# global evaluation report (RP0004).\n",
            "evaluation=10.0 - ((float(5 * error + warning + refactor + convention) / statement) * 10)\n",
            "\n",
            "# Template used to display messages. This is a python new-style format string\n",
            "# used to format the message information. See doc for all details.\n",
            "#msg-template=\n",
            "\n",
            "# Set the output format. Available formats are text, parseable, colorized, json\n",
            "# and msvs (visual studio). You can also give a reporter class, e.g.\n",
            "# mypackage.mymodule.MyReporterClass.\n",
            "output-format=text\n",
            "\n",
            "# Tells whether to display a full report or only the messages.\n",
            "reports=no\n",
            "\n",
            "# Activate the evaluation score.\n",
            "score=yes\n",
            "\n",
            "\n",
            "[REFACTORING]\n",
            "\n",
            "# Maximum number of nested blocks for function / method body\n",
            "max-nested-blocks=5\n",
            "\n",
            "# Complete name of functions that never returns. When checking for\n",
            "# inconsistent-return-statements if a never returning function is called then\n",
            "# it will be considered as an explicit return statement and no message will be\n",
            "# printed.\n",
            "never-returning-functions=sys.exit\n",
            "\n",
            "\n",
            "[STRING]\n",
            "\n",
            "# This flag controls whether inconsistent-quotes generates a warning when the\n",
            "# character used as a quote delimiter is used inconsistently within a module.\n",
            "check-quote-consistency=no\n",
            "\n",
            "# This flag controls whether the implicit-str-concat should generate a warning\n",
            "# on implicit string concatenation in sequences defined over several lines.\n",
            "check-str-concat-over-line-jumps=no\n",
            "\n",
            "\n",
            "[TYPECHECK]\n",
            "\n",
            "# List of decorators that produce context managers, such as\n",
            "# contextlib.contextmanager. Add to this list to register other decorators that\n",
            "# produce valid context managers.\n",
            "contextmanager-decorators=contextlib.contextmanager\n",
            "\n",
            "# List of members which are set dynamically and missed by pylint inference\n",
            "# system, and so shouldn't trigger E1101 when accessed. Python regular\n",
            "# expressions are accepted.\n",
            "generated-members=\n",
            "\n",
            "# Tells whether missing members accessed in mixin class should be ignored. A\n",
            "# mixin class is detected if its name ends with \"mixin\" (case insensitive).\n",
            "ignore-mixin-members=yes\n",
            "\n",
            "# Tells whether to warn about missing members when the owner of the attribute\n",
            "# is inferred to be None.\n",
            "ignore-none=yes\n",
            "\n",
            "# This flag controls whether pylint should warn about no-member and similar\n",
            "# checks whenever an opaque object is returned when inferring. The inference\n",
            "# can return multiple potential results while evaluating a Python object, but\n",
            "# some branches might not be evaluated, which results in partial inference. In\n",
            "# that case, it might be useful to still emit no-member and other checks for\n",
            "# the rest of the inferred objects.\n",
            "ignore-on-opaque-inference=yes\n",
            "\n",
            "# List of class names for which member attributes should not be checked (useful\n",
            "# for classes with dynamically set attributes). This supports the use of\n",
            "# qualified names.\n",
            "ignored-classes=optparse.Values,thread._local,_thread._local\n",
            "\n",
            "# List of module names for which member attributes should not be checked\n",
            "# (useful for modules/projects where namespaces are manipulated during runtime\n",
            "# and thus existing member attributes cannot be deduced by static analysis). It\n",
            "# supports qualified module names, as well as Unix pattern matching.\n",
            "ignored-modules=\n",
            "\n",
            "# Show a hint with possible names when a member name was not found. The aspect\n",
            "# of finding the hint is based on edit distance.\n",
            "missing-member-hint=yes\n",
            "\n",
            "# The minimum edit distance a name should have in order to be considered a\n",
            "# similar match for a missing member name.\n",
            "missing-member-hint-distance=1\n",
            "\n",
            "# The total number of similar names that should be taken in consideration when\n",
            "# showing a hint for a missing member.\n",
            "missing-member-max-choices=1\n",
            "\n",
            "# List of decorators that change the signature of a decorated function.\n",
            "signature-mutators=\n",
            "\n",
            "\n",
            "[BASIC]\n",
            "\n",
            "# Naming style matching correct argument names.\n",
            "argument-naming-style=snake_case\n",
            "\n",
            "# Regular expression matching correct argument names. Overrides argument-\n",
            "# naming-style.\n",
            "#argument-rgx=\n",
            "\n",
            "# Naming style matching correct attribute names.\n",
            "attr-naming-style=snake_case\n",
            "\n",
            "# Regular expression matching correct attribute names. Overrides attr-naming-\n",
            "# style.\n",
            "#attr-rgx=\n",
            "\n",
            "# Bad variable names which should always be refused, separated by a comma.\n",
            "bad-names=foo,\n",
            "          bar,\n",
            "          baz,\n",
            "          toto,\n",
            "          tutu,\n",
            "          tata\n",
            "\n",
            "# Bad variable names regexes, separated by a comma. If names match any regex,\n",
            "# they will always be refused\n",
            "bad-names-rgxs=\n",
            "\n",
            "# Naming style matching correct class attribute names.\n",
            "class-attribute-naming-style=any\n",
            "\n",
            "# Regular expression matching correct class attribute names. Overrides class-\n",
            "# attribute-naming-style.\n",
            "#class-attribute-rgx=\n",
            "\n",
            "# Naming style matching correct class names.\n",
            "class-naming-style=PascalCase\n",
            "\n",
            "# Regular expression matching correct class names. Overrides class-naming-\n",
            "# style.\n",
            "#class-rgx=\n",
            "\n",
            "# Naming style matching correct constant names.\n",
            "const-naming-style=UPPER_CASE\n",
            "\n",
            "# Regular expression matching correct constant names. Overrides const-naming-\n",
            "# style.\n",
            "#const-rgx=\n",
            "\n",
            "# Minimum line length for functions/classes that require docstrings, shorter\n",
            "# ones are exempt.\n",
            "docstring-min-length=-1\n",
            "\n",
            "# Naming style matching correct function names.\n",
            "function-naming-style=snake_case\n",
            "\n",
            "# Regular expression matching correct function names. Overrides function-\n",
            "# naming-style.\n",
            "#function-rgx=\n",
            "\n",
            "# Good variable names which should always be accepted, separated by a comma.\n",
            "good-names=i,\n",
            "           j,\n",
            "           k,\n",
            "           ex,\n",
            "           Run,\n",
            "           _\n",
            "\n",
            "# Good variable names regexes, separated by a comma. If names match any regex,\n",
            "# they will always be accepted\n",
            "good-names-rgxs=\n",
            "\n",
            "# Include a hint for the correct naming format with invalid-name.\n",
            "include-naming-hint=no\n",
            "\n",
            "# Naming style matching correct inline iteration names.\n",
            "inlinevar-naming-style=any\n",
            "\n",
            "# Regular expression matching correct inline iteration names. Overrides\n",
            "# inlinevar-naming-style.\n",
            "#inlinevar-rgx=\n",
            "\n",
            "# Naming style matching correct method names.\n",
            "method-naming-style=snake_case\n",
            "\n",
            "# Regular expression matching correct method names. Overrides method-naming-\n",
            "# style.\n",
            "#method-rgx=\n",
            "\n",
            "# Naming style matching correct module names.\n",
            "module-naming-style=snake_case\n",
            "\n",
            "# Regular expression matching correct module names. Overrides module-naming-\n",
            "# style.\n",
            "#module-rgx=\n",
            "\n",
            "# Colon-delimited sets of names that determine each other's naming style when\n",
            "# the name regexes allow several styles.\n",
            "name-group=\n",
            "\n",
            "# Regular expression which should only match function or class names that do\n",
            "# not require a docstring.\n",
            "no-docstring-rgx=^_\n",
            "\n",
            "# List of decorators that produce properties, such as abc.abstractproperty. Add\n",
            "# to this list to register other decorators that produce valid properties.\n",
            "# These decorators are taken in consideration only for invalid-name.\n",
            "property-classes=abc.abstractproperty\n",
            "\n",
            "# Naming style matching correct variable names.\n",
            "variable-naming-style=snake_case\n",
            "\n",
            "# Regular expression matching correct variable names. Overrides variable-\n",
            "# naming-style.\n",
            "#variable-rgx=\n",
            "\n",
            "\n",
            "[LOGGING]\n",
            "\n",
            "# The type of string formatting that logging methods do. `old` means using %\n",
            "# formatting, `new` is for `{}` formatting.\n",
            "logging-format-style=old\n",
            "\n",
            "# Logging modules to check that the string format arguments are in logging\n",
            "# function parameter format.\n",
            "logging-modules=logging\n",
            "\n",
            "\n",
            "[SIMILARITIES]\n",
            "\n",
            "# Ignore comments when computing similarities.\n",
            "ignore-comments=yes\n",
            "\n",
            "# Ignore docstrings when computing similarities.\n",
            "ignore-docstrings=yes\n",
            "\n",
            "# Ignore imports when computing similarities.\n",
            "ignore-imports=no\n",
            "\n",
            "# Minimum lines number of a similarity.\n",
            "min-similarity-lines=4\n",
            "\n",
            "\n",
            "[MISCELLANEOUS]\n",
            "\n",
            "# List of note tags to take in consideration, separated by a comma.\n",
            "notes=FIXME,\n",
            "      XXX,\n",
            "      TODO\n",
            "\n",
            "# Regular expression of note tags to take in consideration.\n",
            "#notes-rgx=\n",
            "\n",
            "\n",
            "[SPELLING]\n",
            "\n",
            "# Limits count of emitted suggestions for spelling mistakes.\n",
            "max-spelling-suggestions=4\n",
            "\n",
            "# Spelling dictionary name. Available dictionaries: none. To make it work,\n",
            "# install the python-enchant package.\n",
            "spelling-dict=\n",
            "\n",
            "# List of comma separated words that should not be checked.\n",
            "spelling-ignore-words=\n",
            "\n",
            "# A path to a file that contains the private dictionary; one word per line.\n",
            "spelling-private-dict-file=\n",
            "\n",
            "# Tells whether to store unknown words to the private dictionary (see the\n",
            "# --spelling-private-dict-file option) instead of raising a message.\n",
            "spelling-store-unknown-words=no\n",
            "\n",
            "\n",
            "[FORMAT]\n",
            "\n",
            "# Expected format of line ending, e.g. empty (any line ending), LF or CRLF.\n",
            "expected-line-ending-format=\n",
            "\n",
            "# Regexp for a line that is allowed to be longer than the limit.\n",
            "ignore-long-lines=^\\s*(# )?<?https?://\\S+>?$\n",
            "\n",
            "# Number of spaces of indent required inside a hanging or continued line.\n",
            "indent-after-paren=4\n",
            "\n",
            "# String used as indentation unit. This is usually \"    \" (4 spaces) or \"\\t\" (1\n",
            "# tab).\n",
            "indent-string='    '\n",
            "\n",
            "# Maximum number of characters on a single line.\n",
            "max-line-length=100\n",
            "\n",
            "# Maximum number of lines in a module.\n",
            "max-module-lines=1000\n",
            "\n",
            "# Allow the body of a class to be on the same line as the declaration if body\n",
            "# contains single statement.\n",
            "single-line-class-stmt=no\n",
            "\n",
            "# Allow the body of an if to be on the same line as the test if there is no\n",
            "# else.\n",
            "single-line-if-stmt=no\n",
            "\n",
            "\n",
            "[VARIABLES]\n",
            "\n",
            "# List of additional names supposed to be defined in builtins. Remember that\n",
            "# you should avoid defining new builtins when possible.\n",
            "additional-builtins=\n",
            "\n",
            "# Tells whether unused global variables should be treated as a violation.\n",
            "allow-global-unused-variables=yes\n",
            "\n",
            "# List of strings which can identify a callback function by name. A callback\n",
            "# name must start or end with one of those strings.\n",
            "callbacks=cb_,\n",
            "          _cb\n",
            "\n",
            "# A regular expression matching the name of dummy variables (i.e. expected to\n",
            "# not be used).\n",
            "dummy-variables-rgx=_+$|(_[a-zA-Z0-9_]*[a-zA-Z0-9]+?$)|dummy|^ignored_|^unused_\n",
            "\n",
            "# Argument names that match this expression will be ignored. Default to name\n",
            "# with leading underscore.\n",
            "ignored-argument-names=_.*|^ignored_|^unused_\n",
            "\n",
            "# Tells whether we should check for unused import in __init__ files.\n",
            "init-import=no\n",
            "\n",
            "# List of qualified module names which can have objects that can redefine\n",
            "# builtins.\n",
            "redefining-builtins-modules=six.moves,past.builtins,future.builtins,builtins,io\n",
            "\n",
            "\n",
            "[IMPORTS]\n",
            "\n",
            "# List of modules that can be imported at any level, not just the top level\n",
            "# one.\n",
            "allow-any-import-level=\n",
            "\n",
            "# Allow wildcard imports from modules that define __all__.\n",
            "allow-wildcard-with-all=no\n",
            "\n",
            "# Analyse import fallback blocks. This can be used to support both Python 2 and\n",
            "# 3 compatible code, which means that the block might have code that exists\n",
            "# only in one or another interpreter, leading to false positives when analysed.\n",
            "analyse-fallback-blocks=no\n",
            "\n",
            "# Deprecated modules which should not be used, separated by a comma.\n",
            "deprecated-modules=optparse,tkinter.tix\n",
            "\n",
            "# Create a graph of external dependencies in the given file (report RP0402 must\n",
            "# not be disabled).\n",
            "ext-import-graph=\n",
            "\n",
            "# Create a graph of every (i.e. internal and external) dependencies in the\n",
            "# given file (report RP0402 must not be disabled).\n",
            "import-graph=\n",
            "\n",
            "# Create a graph of internal dependencies in the given file (report RP0402 must\n",
            "# not be disabled).\n",
            "int-import-graph=\n",
            "\n",
            "# Force import order to recognize a module as part of the standard\n",
            "# compatibility libraries.\n",
            "known-standard-library=\n",
            "\n",
            "# Force import order to recognize a module as part of a third party library.\n",
            "known-third-party=enchant\n",
            "\n",
            "# Couples of modules and preferred modules, separated by a comma.\n",
            "preferred-modules=\n",
            "\n",
            "\n",
            "[CLASSES]\n",
            "\n",
            "# List of method names used to declare (i.e. assign) instance attributes.\n",
            "defining-attr-methods=__init__,\n",
            "                      __new__,\n",
            "                      setUp,\n",
            "                      __post_init__\n",
            "\n",
            "# List of member names, which should be excluded from the protected access\n",
            "# warning.\n",
            "exclude-protected=_asdict,\n",
            "                  _fields,\n",
            "                  _replace,\n",
            "                  _source,\n",
            "                  _make\n",
            "\n",
            "# List of valid names for the first argument in a class method.\n",
            "valid-classmethod-first-arg=cls\n",
            "\n",
            "# List of valid names for the first argument in a metaclass class method.\n",
            "valid-metaclass-classmethod-first-arg=cls\n",
            "\n",
            "\n",
            "[DESIGN]\n",
            "\n",
            "# Maximum number of arguments for function / method.\n",
            "max-args=5\n",
            "\n",
            "# Maximum number of attributes for a class (see R0902).\n",
            "max-attributes=7\n",
            "\n",
            "# Maximum number of boolean expressions in an if statement (see R0916).\n",
            "max-bool-expr=5\n",
            "\n",
            "# Maximum number of branch for function / method body.\n",
            "max-branches=12\n",
            "\n",
            "# Maximum number of locals for function / method body.\n",
            "max-locals=15\n",
            "\n",
            "# Maximum number of parents for a class (see R0901).\n",
            "max-parents=7\n",
            "\n",
            "# Maximum number of public methods for a class (see R0904).\n",
            "max-public-methods=20\n",
            "\n",
            "# Maximum number of return / yield for function / method body.\n",
            "max-returns=6\n",
            "\n",
            "# Maximum number of statements in function / method body.\n",
            "max-statements=50\n",
            "\n",
            "# Minimum number of public methods for a class (see R0903).\n",
            "min-public-methods=2\n",
            "\n",
            "\n",
            "[EXCEPTIONS]\n",
            "\n",
            "# Exceptions that will emit a warning when being caught. Defaults to\n",
            "# \"BaseException, Exception\".\n",
            "overgeneral-exceptions=BaseException,\n",
            "                       Exception\n"
          ],
          "name": "stdout"
        }
      ]
    },
    {
      "cell_type": "markdown",
      "metadata": {
        "id": "fKyCzIWosDuK"
      },
      "source": [
        "## Pycodestyle"
      ]
    },
    {
      "cell_type": "code",
      "metadata": {
        "colab": {
          "base_uri": "https://localhost:8080/"
        },
        "id": "0vLVz3FPsK3q",
        "outputId": "8f38b5bb-3a6a-430e-93e6-ea299da2de0d"
      },
      "source": [
        "# Only check PEP8\n",
        "!pip install pycodestyle"
      ],
      "execution_count": null,
      "outputs": [
        {
          "output_type": "stream",
          "text": [
            "Collecting pycodestyle\n",
            "\u001b[?25l  Downloading https://files.pythonhosted.org/packages/10/5b/88879fb861ab79aef45c7e199cae3ef7af487b5603dcb363517a50602dd7/pycodestyle-2.6.0-py2.py3-none-any.whl (41kB)\n",
            "\r\u001b[K     |████████                        | 10kB 13.1MB/s eta 0:00:01\r\u001b[K     |███████████████▉                | 20kB 14.7MB/s eta 0:00:01\r\u001b[K     |███████████████████████▊        | 30kB 17.7MB/s eta 0:00:01\r\u001b[K     |███████████████████████████████▊| 40kB 18.6MB/s eta 0:00:01\r\u001b[K     |████████████████████████████████| 51kB 5.3MB/s \n",
            "\u001b[?25hInstalling collected packages: pycodestyle\n",
            "Successfully installed pycodestyle-2.6.0\n"
          ],
          "name": "stdout"
        }
      ]
    },
    {
      "cell_type": "code",
      "metadata": {
        "colab": {
          "base_uri": "https://localhost:8080/"
        },
        "id": "_FhfrtyYsRWl",
        "outputId": "447edc3e-65ff-499c-96a4-64c1d9c83a27"
      },
      "source": [
        "!pycodestyle /content/drive/MyDrive/'Colab Notebooks'/data/PEP8_Tools"
      ],
      "execution_count": null,
      "outputs": [
        {
          "output_type": "stream",
          "text": [
            "/content/drive/MyDrive/Colab Notebooks/data/PEP8_Tools/__init__.py:9:80: E501 line too long (80 > 79 characters)\n",
            "/content/drive/MyDrive/Colab Notebooks/data/PEP8_Tools/game.py:5:80: E501 line too long (92 > 79 characters)\n",
            "/content/drive/MyDrive/Colab Notebooks/data/PEP8_Tools/game.py:16:1: E302 expected 2 blank lines, found 1\n",
            "/content/drive/MyDrive/Colab Notebooks/data/PEP8_Tools/game.py:18:8: E111 indentation is not a multiple of four\n",
            "/content/drive/MyDrive/Colab Notebooks/data/PEP8_Tools/game.py:19:8: E111 indentation is not a multiple of four\n",
            "/content/drive/MyDrive/Colab Notebooks/data/PEP8_Tools/game.py:36:17: E127 continuation line over-indented for visual indent\n",
            "/content/drive/MyDrive/Colab Notebooks/data/PEP8_Tools/game.py:38:1: E305 expected 2 blank lines after class or function definition, found 1\n",
            "/content/drive/MyDrive/Colab Notebooks/data/PEP8_Tools/game.py:41:39: W291 trailing whitespace\n",
            "/content/drive/MyDrive/Colab Notebooks/data/PEP8_Tools/weapons.py:15:80: E501 line too long (87 > 79 characters)\n",
            "/content/drive/MyDrive/Colab Notebooks/data/PEP8_Tools/weapons.py:21:80: E501 line too long (86 > 79 characters)\n",
            "/content/drive/MyDrive/Colab Notebooks/data/PEP8_Tools/weapons.py:22:80: E501 line too long (87 > 79 characters)\n",
            "/content/drive/MyDrive/Colab Notebooks/data/PEP8_Tools/weapons.py:28:80: E501 line too long (90 > 79 characters)\n",
            "/content/drive/MyDrive/Colab Notebooks/data/PEP8_Tools/weapons.py:32:80: E501 line too long (83 > 79 characters)\n",
            "/content/drive/MyDrive/Colab Notebooks/data/PEP8_Tools/weapons.py:36:80: E501 line too long (94 > 79 characters)\n",
            "/content/drive/MyDrive/Colab Notebooks/data/PEP8_Tools/weapons.py:37:80: E501 line too long (97 > 79 characters)\n",
            "/content/drive/MyDrive/Colab Notebooks/data/PEP8_Tools/weapons.py:38:80: E501 line too long (99 > 79 characters)\n"
          ],
          "name": "stdout"
        }
      ]
    },
    {
      "cell_type": "markdown",
      "metadata": {
        "id": "wyFK_cmissPe"
      },
      "source": [
        "## Black"
      ]
    },
    {
      "cell_type": "code",
      "metadata": {
        "colab": {
          "base_uri": "https://localhost:8080/"
        },
        "id": "kyqOec1_stnx",
        "outputId": "7bbc8db5-8bdf-43e0-d906-97eb27e26537"
      },
      "source": [
        "# Auto-fix PEP8 violations\n",
        "!pip install black"
      ],
      "execution_count": null,
      "outputs": [
        {
          "output_type": "stream",
          "text": [
            "Collecting black\n",
            "\u001b[?25l  Downloading https://files.pythonhosted.org/packages/dc/7b/5a6bbe89de849f28d7c109f5ea87b65afa5124ad615f3419e71beb29dc96/black-20.8b1.tar.gz (1.1MB)\n",
            "\r\u001b[K     |▎                               | 10kB 16.6MB/s eta 0:00:01\r\u001b[K     |▋                               | 20kB 22.0MB/s eta 0:00:01\r\u001b[K     |█                               | 30kB 26.2MB/s eta 0:00:01\r\u001b[K     |█▏                              | 40kB 19.3MB/s eta 0:00:01\r\u001b[K     |█▌                              | 51kB 16.8MB/s eta 0:00:01\r\u001b[K     |█▉                              | 61kB 17.9MB/s eta 0:00:01\r\u001b[K     |██                              | 71kB 14.4MB/s eta 0:00:01\r\u001b[K     |██▍                             | 81kB 13.8MB/s eta 0:00:01\r\u001b[K     |██▊                             | 92kB 14.8MB/s eta 0:00:01\r\u001b[K     |███                             | 102kB 14.9MB/s eta 0:00:01\r\u001b[K     |███▎                            | 112kB 14.9MB/s eta 0:00:01\r\u001b[K     |███▋                            | 122kB 14.9MB/s eta 0:00:01\r\u001b[K     |███▉                            | 133kB 14.9MB/s eta 0:00:01\r\u001b[K     |████▏                           | 143kB 14.9MB/s eta 0:00:01\r\u001b[K     |████▌                           | 153kB 14.9MB/s eta 0:00:01\r\u001b[K     |████▉                           | 163kB 14.9MB/s eta 0:00:01\r\u001b[K     |█████                           | 174kB 14.9MB/s eta 0:00:01\r\u001b[K     |█████▍                          | 184kB 14.9MB/s eta 0:00:01\r\u001b[K     |█████▊                          | 194kB 14.9MB/s eta 0:00:01\r\u001b[K     |██████                          | 204kB 14.9MB/s eta 0:00:01\r\u001b[K     |██████▎                         | 215kB 14.9MB/s eta 0:00:01\r\u001b[K     |██████▋                         | 225kB 14.9MB/s eta 0:00:01\r\u001b[K     |██████▉                         | 235kB 14.9MB/s eta 0:00:01\r\u001b[K     |███████▏                        | 245kB 14.9MB/s eta 0:00:01\r\u001b[K     |███████▌                        | 256kB 14.9MB/s eta 0:00:01\r\u001b[K     |███████▊                        | 266kB 14.9MB/s eta 0:00:01\r\u001b[K     |████████                        | 276kB 14.9MB/s eta 0:00:01\r\u001b[K     |████████▍                       | 286kB 14.9MB/s eta 0:00:01\r\u001b[K     |████████▊                       | 296kB 14.9MB/s eta 0:00:01\r\u001b[K     |█████████                       | 307kB 14.9MB/s eta 0:00:01\r\u001b[K     |█████████▎                      | 317kB 14.9MB/s eta 0:00:01\r\u001b[K     |█████████▋                      | 327kB 14.9MB/s eta 0:00:01\r\u001b[K     |█████████▉                      | 337kB 14.9MB/s eta 0:00:01\r\u001b[K     |██████████▏                     | 348kB 14.9MB/s eta 0:00:01\r\u001b[K     |██████████▌                     | 358kB 14.9MB/s eta 0:00:01\r\u001b[K     |██████████▊                     | 368kB 14.9MB/s eta 0:00:01\r\u001b[K     |███████████                     | 378kB 14.9MB/s eta 0:00:01\r\u001b[K     |███████████▍                    | 389kB 14.9MB/s eta 0:00:01\r\u001b[K     |███████████▋                    | 399kB 14.9MB/s eta 0:00:01\r\u001b[K     |████████████                    | 409kB 14.9MB/s eta 0:00:01\r\u001b[K     |████████████▎                   | 419kB 14.9MB/s eta 0:00:01\r\u001b[K     |████████████▌                   | 430kB 14.9MB/s eta 0:00:01\r\u001b[K     |████████████▉                   | 440kB 14.9MB/s eta 0:00:01\r\u001b[K     |█████████████▏                  | 450kB 14.9MB/s eta 0:00:01\r\u001b[K     |█████████████▌                  | 460kB 14.9MB/s eta 0:00:01\r\u001b[K     |█████████████▊                  | 471kB 14.9MB/s eta 0:00:01\r\u001b[K     |██████████████                  | 481kB 14.9MB/s eta 0:00:01\r\u001b[K     |██████████████▍                 | 491kB 14.9MB/s eta 0:00:01\r\u001b[K     |██████████████▋                 | 501kB 14.9MB/s eta 0:00:01\r\u001b[K     |███████████████                 | 512kB 14.9MB/s eta 0:00:01\r\u001b[K     |███████████████▎                | 522kB 14.9MB/s eta 0:00:01\r\u001b[K     |███████████████▌                | 532kB 14.9MB/s eta 0:00:01\r\u001b[K     |███████████████▉                | 542kB 14.9MB/s eta 0:00:01\r\u001b[K     |████████████████▏               | 552kB 14.9MB/s eta 0:00:01\r\u001b[K     |████████████████▍               | 563kB 14.9MB/s eta 0:00:01\r\u001b[K     |████████████████▊               | 573kB 14.9MB/s eta 0:00:01\r\u001b[K     |█████████████████               | 583kB 14.9MB/s eta 0:00:01\r\u001b[K     |█████████████████▍              | 593kB 14.9MB/s eta 0:00:01\r\u001b[K     |█████████████████▋              | 604kB 14.9MB/s eta 0:00:01\r\u001b[K     |██████████████████              | 614kB 14.9MB/s eta 0:00:01\r\u001b[K     |██████████████████▎             | 624kB 14.9MB/s eta 0:00:01\r\u001b[K     |██████████████████▌             | 634kB 14.9MB/s eta 0:00:01\r\u001b[K     |██████████████████▉             | 645kB 14.9MB/s eta 0:00:01\r\u001b[K     |███████████████████▏            | 655kB 14.9MB/s eta 0:00:01\r\u001b[K     |███████████████████▍            | 665kB 14.9MB/s eta 0:00:01\r\u001b[K     |███████████████████▊            | 675kB 14.9MB/s eta 0:00:01\r\u001b[K     |████████████████████            | 686kB 14.9MB/s eta 0:00:01\r\u001b[K     |████████████████████▎           | 696kB 14.9MB/s eta 0:00:01\r\u001b[K     |████████████████████▋           | 706kB 14.9MB/s eta 0:00:01\r\u001b[K     |█████████████████████           | 716kB 14.9MB/s eta 0:00:01\r\u001b[K     |█████████████████████▏          | 727kB 14.9MB/s eta 0:00:01\r\u001b[K     |█████████████████████▌          | 737kB 14.9MB/s eta 0:00:01\r\u001b[K     |█████████████████████▉          | 747kB 14.9MB/s eta 0:00:01\r\u001b[K     |██████████████████████▏         | 757kB 14.9MB/s eta 0:00:01\r\u001b[K     |██████████████████████▍         | 768kB 14.9MB/s eta 0:00:01\r\u001b[K     |██████████████████████▊         | 778kB 14.9MB/s eta 0:00:01\r\u001b[K     |███████████████████████         | 788kB 14.9MB/s eta 0:00:01\r\u001b[K     |███████████████████████▎        | 798kB 14.9MB/s eta 0:00:01\r\u001b[K     |███████████████████████▋        | 808kB 14.9MB/s eta 0:00:01\r\u001b[K     |████████████████████████        | 819kB 14.9MB/s eta 0:00:01\r\u001b[K     |████████████████████████▏       | 829kB 14.9MB/s eta 0:00:01\r\u001b[K     |████████████████████████▌       | 839kB 14.9MB/s eta 0:00:01\r\u001b[K     |████████████████████████▉       | 849kB 14.9MB/s eta 0:00:01\r\u001b[K     |█████████████████████████       | 860kB 14.9MB/s eta 0:00:01\r\u001b[K     |█████████████████████████▍      | 870kB 14.9MB/s eta 0:00:01\r\u001b[K     |█████████████████████████▊      | 880kB 14.9MB/s eta 0:00:01\r\u001b[K     |██████████████████████████      | 890kB 14.9MB/s eta 0:00:01\r\u001b[K     |██████████████████████████▎     | 901kB 14.9MB/s eta 0:00:01\r\u001b[K     |██████████████████████████▋     | 911kB 14.9MB/s eta 0:00:01\r\u001b[K     |███████████████████████████     | 921kB 14.9MB/s eta 0:00:01\r\u001b[K     |███████████████████████████▏    | 931kB 14.9MB/s eta 0:00:01\r\u001b[K     |███████████████████████████▌    | 942kB 14.9MB/s eta 0:00:01\r\u001b[K     |███████████████████████████▉    | 952kB 14.9MB/s eta 0:00:01\r\u001b[K     |████████████████████████████    | 962kB 14.9MB/s eta 0:00:01\r\u001b[K     |████████████████████████████▍   | 972kB 14.9MB/s eta 0:00:01\r\u001b[K     |████████████████████████████▊   | 983kB 14.9MB/s eta 0:00:01\r\u001b[K     |█████████████████████████████   | 993kB 14.9MB/s eta 0:00:01\r\u001b[K     |█████████████████████████████▎  | 1.0MB 14.9MB/s eta 0:00:01\r\u001b[K     |█████████████████████████████▋  | 1.0MB 14.9MB/s eta 0:00:01\r\u001b[K     |█████████████████████████████▉  | 1.0MB 14.9MB/s eta 0:00:01\r\u001b[K     |██████████████████████████████▏ | 1.0MB 14.9MB/s eta 0:00:01\r\u001b[K     |██████████████████████████████▌ | 1.0MB 14.9MB/s eta 0:00:01\r\u001b[K     |██████████████████████████████▉ | 1.1MB 14.9MB/s eta 0:00:01\r\u001b[K     |███████████████████████████████ | 1.1MB 14.9MB/s eta 0:00:01\r\u001b[K     |███████████████████████████████▍| 1.1MB 14.9MB/s eta 0:00:01\r\u001b[K     |███████████████████████████████▊| 1.1MB 14.9MB/s eta 0:00:01\r\u001b[K     |████████████████████████████████| 1.1MB 14.9MB/s eta 0:00:01\r\u001b[K     |████████████████████████████████| 1.1MB 14.9MB/s \n",
            "\u001b[?25h  Installing build dependencies ... \u001b[?25l\u001b[?25hdone\n",
            "  Getting requirements to build wheel ... \u001b[?25l\u001b[?25hdone\n",
            "    Preparing wheel metadata ... \u001b[?25l\u001b[?25hdone\n",
            "Collecting mypy-extensions>=0.4.3\n",
            "  Downloading https://files.pythonhosted.org/packages/5c/eb/975c7c080f3223a5cdaff09612f3a5221e4ba534f7039db34c35d95fa6a5/mypy_extensions-0.4.3-py2.py3-none-any.whl\n",
            "Collecting appdirs\n",
            "  Downloading https://files.pythonhosted.org/packages/3b/00/2344469e2084fb287c2e0b57b72910309874c3245463acd6cf5e3db69324/appdirs-1.4.4-py2.py3-none-any.whl\n",
            "Requirement already satisfied: dataclasses>=0.6; python_version < \"3.7\" in /usr/local/lib/python3.6/dist-packages (from black) (0.8)\n",
            "Requirement already satisfied: typing-extensions>=3.7.4 in /usr/local/lib/python3.6/dist-packages (from black) (3.7.4.3)\n",
            "Collecting pathspec<1,>=0.6\n",
            "  Downloading https://files.pythonhosted.org/packages/29/29/a465741a3d97ea3c17d21eaad4c64205428bde56742360876c4391f930d4/pathspec-0.8.1-py2.py3-none-any.whl\n",
            "Collecting regex>=2020.1.8\n",
            "\u001b[?25l  Downloading https://files.pythonhosted.org/packages/0d/8a/3ac62dadb767ace65a5b954265de4031a99b27148fe14b24771f5c2c2dca/regex-2020.11.13-cp36-cp36m-manylinux2014_x86_64.whl (723kB)\n",
            "\u001b[K     |████████████████████████████████| 727kB 30.0MB/s \n",
            "\u001b[?25hRequirement already satisfied: click>=7.1.2 in /usr/local/lib/python3.6/dist-packages (from black) (7.1.2)\n",
            "Requirement already satisfied: typed-ast>=1.4.0 in /usr/local/lib/python3.6/dist-packages (from black) (1.4.1)\n",
            "Requirement already satisfied: toml>=0.10.1 in /usr/local/lib/python3.6/dist-packages (from black) (0.10.2)\n",
            "Building wheels for collected packages: black\n",
            "  Building wheel for black (PEP 517) ... \u001b[?25l\u001b[?25hdone\n",
            "  Created wheel for black: filename=black-20.8b1-cp36-none-any.whl size=124186 sha256=3d744a874769c53d20f43143a03406e5cb27e8eeff11982e0b897815b94c69ce\n",
            "  Stored in directory: /root/.cache/pip/wheels/6e/10/b5/edf7359c2edd0305cce7e3f96e07daf7ce55dceac9d3ce3373\n",
            "Successfully built black\n",
            "Installing collected packages: mypy-extensions, appdirs, pathspec, regex, black\n",
            "  Found existing installation: regex 2019.12.20\n",
            "    Uninstalling regex-2019.12.20:\n",
            "      Successfully uninstalled regex-2019.12.20\n",
            "Successfully installed appdirs-1.4.4 black-20.8b1 mypy-extensions-0.4.3 pathspec-0.8.1 regex-2020.11.13\n"
          ],
          "name": "stdout"
        }
      ]
    },
    {
      "cell_type": "code",
      "metadata": {
        "colab": {
          "base_uri": "https://localhost:8080/"
        },
        "id": "sHVmraLEtGWl",
        "outputId": "331be462-236c-4abc-9971-1e7f15930db6"
      },
      "source": [
        "!black /content/drive/MyDrive/'Colab Notebooks'/data/PEP8_Tools"
      ],
      "execution_count": null,
      "outputs": [
        {
          "output_type": "stream",
          "text": [
            "\u001b[1mreformatted /content/drive/MyDrive/Colab Notebooks/data/PEP8_Tools/game.py\u001b[0m\n",
            "\u001b[1mreformatted /content/drive/MyDrive/Colab Notebooks/data/PEP8_Tools/weapons.py\u001b[0m\n",
            "\u001b[1mAll done! ✨ 🍰 ✨\u001b[0m\n",
            "\u001b[1m2 files reformatted\u001b[0m, 2 files left unchanged.\u001b[0m\n"
          ],
          "name": "stdout"
        }
      ]
    },
    {
      "cell_type": "code",
      "metadata": {
        "colab": {
          "base_uri": "https://localhost:8080/"
        },
        "id": "EZPL4_e3tQBw",
        "outputId": "4ea08e9c-3e0f-437d-f4b9-4d85af13995b"
      },
      "source": [
        "!pycodestyle /content/drive/MyDrive/'Colab Notebooks'/data/PEP8_Tools"
      ],
      "execution_count": null,
      "outputs": [
        {
          "output_type": "stream",
          "text": [
            "/content/drive/MyDrive/Colab Notebooks/data/PEP8_Tools/__init__.py:9:80: E501 line too long (80 > 79 characters)\n",
            "/content/drive/MyDrive/Colab Notebooks/data/PEP8_Tools/game.py:5:80: E501 line too long (92 > 79 characters)\n",
            "/content/drive/MyDrive/Colab Notebooks/data/PEP8_Tools/weapons.py:15:80: E501 line too long (87 > 79 characters)\n",
            "/content/drive/MyDrive/Colab Notebooks/data/PEP8_Tools/weapons.py:21:80: E501 line too long (86 > 79 characters)\n",
            "/content/drive/MyDrive/Colab Notebooks/data/PEP8_Tools/weapons.py:22:80: E501 line too long (87 > 79 characters)\n",
            "/content/drive/MyDrive/Colab Notebooks/data/PEP8_Tools/weapons.py:28:80: E501 line too long (93 > 79 characters)\n",
            "/content/drive/MyDrive/Colab Notebooks/data/PEP8_Tools/weapons.py:31:80: E501 line too long (83 > 79 characters)\n",
            "/content/drive/MyDrive/Colab Notebooks/data/PEP8_Tools/weapons.py:35:80: E501 line too long (94 > 79 characters)\n",
            "/content/drive/MyDrive/Colab Notebooks/data/PEP8_Tools/weapons.py:36:80: E501 line too long (97 > 79 characters)\n",
            "/content/drive/MyDrive/Colab Notebooks/data/PEP8_Tools/weapons.py:37:80: E501 line too long (99 > 79 characters)\n"
          ],
          "name": "stdout"
        }
      ]
    },
    {
      "cell_type": "code",
      "metadata": {
        "colab": {
          "base_uri": "https://localhost:8080/"
        },
        "id": "OmcmTfhCtLuE",
        "outputId": "7e0b305f-5a97-4665-bdc2-56576331acd6"
      },
      "source": [
        "!pylint /content/drive/MyDrive/'Colab Notebooks'/data/PEP8_Tools"
      ],
      "execution_count": null,
      "outputs": [
        {
          "output_type": "stream",
          "text": [
            "************* Module PEP8_Tools\n",
            "drive/MyDrive/Colab Notebooks/data/PEP8_Tools/__init__.py:1:0: C0103: Module name \"PEP8_Tools\" doesn't conform to snake_case naming style (invalid-name)\n",
            "************* Module PEP8_Tools.weapons\n",
            "drive/MyDrive/Colab Notebooks/data/PEP8_Tools/weapons.py:14:0: R0903: Too few public methods (1/2) (too-few-public-methods)\n",
            "drive/MyDrive/Colab Notebooks/data/PEP8_Tools/weapons.py:30:4: W0221: Parameters differ from overridden 'attack' method (arguments-differ)\n",
            "drive/MyDrive/Colab Notebooks/data/PEP8_Tools/weapons.py:27:0: R0903: Too few public methods (1/2) (too-few-public-methods)\n",
            "drive/MyDrive/Colab Notebooks/data/PEP8_Tools/weapons.py:44:4: W0221: Parameters differ from overridden 'attack' method (arguments-differ)\n",
            "drive/MyDrive/Colab Notebooks/data/PEP8_Tools/weapons.py:45:8: R1705: Unnecessary \"else\" after \"return\" (no-else-return)\n",
            "drive/MyDrive/Colab Notebooks/data/PEP8_Tools/weapons.py:34:0: R0903: Too few public methods (1/2) (too-few-public-methods)\n",
            "************* Module PEP8_Tools.player\n",
            "drive/MyDrive/Colab Notebooks/data/PEP8_Tools/player.py:21:4: C0116: Missing function or method docstring (missing-function-docstring)\n",
            "************* Module PEP8_Tools.game\n",
            "drive/MyDrive/Colab Notebooks/data/PEP8_Tools/game.py:13:0: E0401: Unable to import 'gamedemo.weapons' (import-error)\n",
            "drive/MyDrive/Colab Notebooks/data/PEP8_Tools/game.py:14:0: E0401: Unable to import 'gamedemo.player' (import-error)\n",
            "drive/MyDrive/Colab Notebooks/data/PEP8_Tools/game.py:19:8: C0103: Attribute name \"p1\" doesn't conform to snake_case naming style (invalid-name)\n",
            "drive/MyDrive/Colab Notebooks/data/PEP8_Tools/game.py:20:8: C0103: Attribute name \"p2\" doesn't conform to snake_case naming style (invalid-name)\n",
            "drive/MyDrive/Colab Notebooks/data/PEP8_Tools/game.py:17:0: C0115: Missing class docstring (missing-class-docstring)\n",
            "drive/MyDrive/Colab Notebooks/data/PEP8_Tools/game.py:22:4: C0116: Missing function or method docstring (missing-function-docstring)\n",
            "drive/MyDrive/Colab Notebooks/data/PEP8_Tools/game.py:17:0: R0903: Too few public methods (1/2) (too-few-public-methods)\n",
            "\n",
            "------------------------------------------------------------------\n",
            "Your code has been rated at 6.23/10 (previous run: 5.74/10, +0.49)\n",
            "\n"
          ],
          "name": "stdout"
        }
      ]
    },
    {
      "cell_type": "markdown",
      "metadata": {
        "id": "04saSjy8tq7V"
      },
      "source": [
        "# Documentation"
      ]
    },
    {
      "cell_type": "markdown",
      "metadata": {
        "id": "J8rVaZP8xoAT"
      },
      "source": [
        "Tools\n",
        "\n",
        "*   Docstring - PEP257 (conventions of docstrings)\n",
        "*   Sphinx - generate documentation from Docstring via reStructureText to HTML,PDF,eBook, etc\n"
      ]
    },
    {
      "cell_type": "markdown",
      "metadata": {
        "id": "ehctJ8kXyjzZ"
      },
      "source": [
        "Docstrings\n",
        "*   1st statement of module / function / class / method\n",
        "*   stored in \"\\_\\_doc__\" attribute\n",
        "*   Conventions\n",
        "    *   Use \"\"\"three double quotes\"\"\"\n",
        "    *   End phrase with \".\"\n",
        "    *   Specify return value for methods\n",
        "\n"
      ]
    },
    {
      "cell_type": "code",
      "metadata": {
        "id": "a9nZzdd2tuSV"
      },
      "source": [
        "# Example of Docstrings\n",
        "def func(a,b):\n",
        "    \"\"\"Do X then return a list \"\"\"\n",
        "    return list;\n",
        "\n",
        "def func2(real = 0.0, imag=0.0):\n",
        "    \"\"\" Form a complex number.\n",
        "\n",
        "    Key arguments:\n",
        "    real -- the real part (default 0.0)\n",
        "    imag -- the imaginary part (default 0.0)\n",
        "    \"\"\"\n",
        "\n",
        "    if imag == 0.0 and real == 0.0:\n",
        "        return complex_zero"
      ],
      "execution_count": null,
      "outputs": []
    },
    {
      "cell_type": "markdown",
      "metadata": {
        "id": "CNPqBHLk0lHq"
      },
      "source": [
        "## Sphinx Demo"
      ]
    },
    {
      "cell_type": "code",
      "metadata": {
        "colab": {
          "base_uri": "https://localhost:8080/"
        },
        "id": "Of9jZoIY0nNn",
        "outputId": "7d6ff0e4-bdf8-48e0-a3c0-7a21c894881d"
      },
      "source": [
        "!pip install sphinx"
      ],
      "execution_count": null,
      "outputs": [
        {
          "output_type": "stream",
          "text": [
            "Requirement already satisfied: sphinx in /usr/local/lib/python3.6/dist-packages (1.8.5)\n",
            "Requirement already satisfied: alabaster<0.8,>=0.7 in /usr/local/lib/python3.6/dist-packages (from sphinx) (0.7.12)\n",
            "Requirement already satisfied: Jinja2>=2.3 in /usr/local/lib/python3.6/dist-packages (from sphinx) (2.11.2)\n",
            "Requirement already satisfied: sphinxcontrib-websupport in /usr/local/lib/python3.6/dist-packages (from sphinx) (1.2.4)\n",
            "Requirement already satisfied: requests>=2.0.0 in /usr/local/lib/python3.6/dist-packages (from sphinx) (2.23.0)\n",
            "Requirement already satisfied: six>=1.5 in /usr/local/lib/python3.6/dist-packages (from sphinx) (1.15.0)\n",
            "Requirement already satisfied: snowballstemmer>=1.1 in /usr/local/lib/python3.6/dist-packages (from sphinx) (2.0.0)\n",
            "Requirement already satisfied: packaging in /usr/local/lib/python3.6/dist-packages (from sphinx) (20.4)\n",
            "Requirement already satisfied: setuptools in /usr/local/lib/python3.6/dist-packages (from sphinx) (50.3.2)\n",
            "Requirement already satisfied: Pygments>=2.0 in /usr/local/lib/python3.6/dist-packages (from sphinx) (2.6.1)\n",
            "Requirement already satisfied: docutils>=0.11 in /usr/local/lib/python3.6/dist-packages (from sphinx) (0.16)\n",
            "Requirement already satisfied: imagesize in /usr/local/lib/python3.6/dist-packages (from sphinx) (1.2.0)\n",
            "Requirement already satisfied: babel!=2.0,>=1.3 in /usr/local/lib/python3.6/dist-packages (from sphinx) (2.9.0)\n",
            "Requirement already satisfied: MarkupSafe>=0.23 in /usr/local/lib/python3.6/dist-packages (from Jinja2>=2.3->sphinx) (1.1.1)\n",
            "Requirement already satisfied: sphinxcontrib-serializinghtml in /usr/local/lib/python3.6/dist-packages (from sphinxcontrib-websupport->sphinx) (1.1.4)\n",
            "Requirement already satisfied: urllib3!=1.25.0,!=1.25.1,<1.26,>=1.21.1 in /usr/local/lib/python3.6/dist-packages (from requests>=2.0.0->sphinx) (1.24.3)\n",
            "Requirement already satisfied: chardet<4,>=3.0.2 in /usr/local/lib/python3.6/dist-packages (from requests>=2.0.0->sphinx) (3.0.4)\n",
            "Requirement already satisfied: idna<3,>=2.5 in /usr/local/lib/python3.6/dist-packages (from requests>=2.0.0->sphinx) (2.10)\n",
            "Requirement already satisfied: certifi>=2017.4.17 in /usr/local/lib/python3.6/dist-packages (from requests>=2.0.0->sphinx) (2020.11.8)\n",
            "Requirement already satisfied: pyparsing>=2.0.2 in /usr/local/lib/python3.6/dist-packages (from packaging->sphinx) (2.4.7)\n",
            "Requirement already satisfied: pytz>=2015.7 in /usr/local/lib/python3.6/dist-packages (from babel!=2.0,>=1.3->sphinx) (2018.9)\n"
          ],
          "name": "stdout"
        }
      ]
    },
    {
      "cell_type": "code",
      "metadata": {
        "colab": {
          "base_uri": "https://localhost:8080/"
        },
        "id": "r_O4lhfu05JR",
        "outputId": "a3e28b36-5a5a-4159-9867-29d8d11e85ce"
      },
      "source": [
        "from google.colab import drive\n",
        "drive.mount(\"/content/drive\")\n",
        "path = \"/content/drive/'My Drive'/'Colab Notebooks'/docs_sphinx\""
      ],
      "execution_count": null,
      "outputs": [
        {
          "output_type": "stream",
          "text": [
            "Mounted at /content/drive\n"
          ],
          "name": "stdout"
        }
      ]
    },
    {
      "cell_type": "code",
      "metadata": {
        "id": "Bqaq-4Wb1QWt"
      },
      "source": [
        "!mkdir /content/drive/'My Drive'/'Colab Notebooks'/docs_sphinx"
      ],
      "execution_count": null,
      "outputs": []
    },
    {
      "cell_type": "code",
      "metadata": {
        "colab": {
          "base_uri": "https://localhost:8080/"
        },
        "id": "DknKGYSh2LBX",
        "outputId": "d0e1fb09-06eb-4c5f-add1-1d815325b75d"
      },
      "source": [
        "%%shell\n",
        "cd /content/drive/'My Drive'/'Colab Notebooks'/docs_sphinx\n",
        "sphinx-quickstart"
      ],
      "execution_count": null,
      "outputs": [
        {
          "output_type": "stream",
          "text": [
            "\u001b[01mWelcome to the Sphinx 1.8.5 quickstart utility.\u001b[39;49;00m\n",
            "\n",
            "Please enter values for the following settings (just press Enter to\n",
            "accept a default value, if one is given in brackets).\n",
            "\u001b[01m\n",
            "Selected root path: .\u001b[39;49;00m\n",
            "\n",
            "You have two options for placing the build directory for Sphinx output.\n",
            "Either, you use a directory \"_build\" within the root path, or you separate\n",
            "\"source\" and \"build\" directories within the root path.\n",
            "\u001b[35m> Separate source and build directories (y/n) [n]: \u001b[39;49;00m\n",
            "\n",
            "Inside the root directory, two more directories will be created; \"_templates\"\n",
            "for custom HTML templates and \"_static\" for custom stylesheets and other static\n",
            "files. You can enter another prefix (such as \".\") to replace the underscore.\n",
            "\u001b[35m> Name prefix for templates and static dir [_]: \u001b[39;49;00m\n",
            "\n",
            "The project name will occur in several places in the built documentation.\n",
            "\u001b[35m> Project name: \u001b[39;49;00mSphinx_Demo\n",
            "\u001b[35m> Author name(s): \u001b[39;49;00mAlvinJJ\n",
            "\u001b[35m> Project release []: \u001b[39;49;00m0.1\n",
            "\n",
            "If the documents are to be written in a language other than English,\n",
            "you can select a language here by its language code. Sphinx will then\n",
            "translate text that it generates into that language.\n",
            "\n",
            "For a list of supported codes, see\n",
            "http://sphinx-doc.org/config.html#confval-language.\n",
            "\u001b[35m> Project language [en]: \u001b[39;49;00m\n",
            "\n",
            "The file name suffix for source files. Commonly, this is either \".txt\"\n",
            "or \".rst\".  Only files with this suffix are considered documents.\n",
            "\u001b[35m> Source file suffix [.rst]: \u001b[39;49;00m\n",
            "\n",
            "One document is special in that it is considered the top node of the\n",
            "\"contents tree\", that is, it is the root of the hierarchical structure\n",
            "of the documents. Normally, this is \"index\", but if your \"index\"\n",
            "document is a custom template, you can also set this to another filename.\n",
            "\u001b[35m> Name of your master document (without suffix) [index]: \u001b[39;49;00m\n",
            "Indicate which of the following Sphinx extensions should be enabled:\n",
            "\u001b[35m> autodoc: automatically insert docstrings from modules (y/n) [n]: \u001b[39;49;00m\n",
            "\u001b[35m> doctest: automatically test code snippets in doctest blocks (y/n) [n]: \u001b[39;49;00m\n",
            ": \u001b[39;49;00m\n",
            "\u001b[35m> todo: write \"todo\" entries that can be shown or hidden on build (y/n) [n]: \u001b[39;49;00m\n",
            "\u001b[35m> coverage: checks for documentation coverage (y/n) [n]: \u001b[39;49;00m\n",
            "\u001b[35m> imgmath: include math, rendered as PNG or SVG images (y/n) [n]: \u001b[39;49;00my\n",
            "\u001b[35m> mathjax: include math, rendered in the browser by MathJax (y/n) [n]: \u001b[39;49;00my\n",
            "\u001b[35m> ifconfig: conditional inclusion of content based on config values (y/n) [n]: \u001b[39;49;00m\n",
            "[n]: \u001b[39;49;00m\n",
            "n) [n]: \u001b[39;49;00m\n",
            "Note: imgmath and mathjax cannot be enabled at the same time. imgmath has been deselected.\n",
            "\n",
            "A Makefile and a Windows command file can be generated for you so that you\n",
            "only have to run e.g. `make html' instead of invoking sphinx-build\n",
            "directly.\n",
            "\u001b[35m> Create Makefile? (y/n) [y]: \u001b[39;49;00m\n",
            "\u001b[35m> Create Windows command file? (y/n) [y]: \u001b[39;49;00m\n",
            "\n",
            "Creating file ./conf.py.\n",
            "Creating file ./index.rst.\n",
            "Creating file ./Makefile.\n",
            "Creating file ./make.bat.\n",
            "\n",
            "\u001b[01mFinished: An initial directory structure has been created.\u001b[39;49;00m\n",
            "\n",
            "You should now populate your master file ./index.rst and create other documentation\n",
            "source files. Use the Makefile to build the docs, like so:\n",
            "   make builder\n",
            "where \"builder\" is one of the supported builders, e.g. html, latex or linkcheck.\n",
            "\n"
          ],
          "name": "stdout"
        },
        {
          "output_type": "execute_result",
          "data": {
            "text/plain": [
              ""
            ]
          },
          "metadata": {
            "tags": []
          },
          "execution_count": 30
        }
      ]
    },
    {
      "cell_type": "code",
      "metadata": {
        "colab": {
          "base_uri": "https://localhost:8080/"
        },
        "id": "TPSJ3X4V3xiZ",
        "outputId": "adcdac73-abc5-4277-aa8b-6cc9053f0f3c"
      },
      "source": [
        "!ls /content/drive/'My Drive'/'Colab Notebooks'/docs_sphinx\n",
        "# _build - where all documentations are stored\n",
        "# conf.py - where Sphynx configs are stored\n",
        "# make.bat & Makefile - run Sphynx through \"make\" command\n",
        "# index.rxt - reStructedText file to write documentation\n"
      ],
      "execution_count": null,
      "outputs": [
        {
          "output_type": "stream",
          "text": [
            "_build\tconf.py  index.rst  make.bat  Makefile\t_static  _templates\n"
          ],
          "name": "stdout"
        }
      ]
    },
    {
      "cell_type": "code",
      "metadata": {
        "colab": {
          "base_uri": "https://localhost:8080/"
        },
        "id": "6WEyT-2w8XKS",
        "outputId": "1623eef5-919d-4134-df84-81ba860e8ef1"
      },
      "source": [
        "# after updating index.rst\n",
        "%%shell\n",
        "cd /content/drive/'My Drive'/'Colab Notebooks'/docs_sphinx\n",
        "make html\n",
        "\n",
        "# open to view html : in /content/drive/'My Drive'/'Colab Notebooks'/docs_sphinx/_build/html/index.html\n",
        "# if make is not available, run \"xcode-select --install\""
      ],
      "execution_count": null,
      "outputs": [
        {
          "output_type": "stream",
          "text": [
            "\u001b[01mRunning Sphinx v1.8.5\u001b[39;49;00m\n",
            "making output directory...\n",
            "\u001b[01mbuilding [mo]: \u001b[39;49;00mtargets for 0 po files that are out of date\n",
            "\u001b[01mbuilding [html]\u001b[39;49;00m: targets for 1 source files that are out of date\n",
            "\u001b[01mupdating environment: \u001b[39;49;00m1 added, 0 changed, 0 removed\n",
            "\n",
            "/content/drive/My Drive/Colab Notebooks/docs_sphinx/index.rst:31: WARNING: Problems with \"include\" directive path:\n",
            "InputError: [Errno 2] No such file or directory: 'modules.rst'.\n",
            "\u001b[31m/content/drive/My Drive/Colab Notebooks/docs_sphinx/index.rst:9: WARNING: Unknown target name: \"www.google.com\".\u001b[39;49;00m\n",
            "\u001b[01mlooking for now-outdated files... \u001b[39;49;00mnone found\n",
            "\u001b[01mpickling environment... \u001b[39;49;00mdone\n",
            "\u001b[01mchecking consistency... \u001b[39;49;00mdone\n",
            "\u001b[01mpreparing documents... \u001b[39;49;00mdone\n",
            "\u001b[01mwriting output... \u001b[39;49;00m[100%] \u001b[32mindex\u001b[39;49;00m\n",
            "\u001b[01mgenerating indices...\u001b[39;49;00m genindex\n",
            "\u001b[01mwriting additional pages...\u001b[39;49;00m search\n",
            "\u001b[01mcopying static files... \u001b[39;49;00mdone\n",
            "\u001b[01mcopying extra files... \u001b[39;49;00mdone\n",
            "\u001b[01mdumping search index in English (code: en) ... \u001b[39;49;00mdone\n",
            "\u001b[01mdumping object inventory... \u001b[39;49;00mdone\n",
            "\u001b[01mbuild succeeded, 2 warnings.\u001b[39;49;00m\n",
            "\n",
            "The HTML pages are in _build/html.\n"
          ],
          "name": "stdout"
        },
        {
          "output_type": "execute_result",
          "data": {
            "text/plain": [
              ""
            ]
          },
          "metadata": {
            "tags": []
          },
          "execution_count": 34
        }
      ]
    },
    {
      "cell_type": "markdown",
      "metadata": {
        "id": "8Pc4fxeFKCeS"
      },
      "source": [
        "## Sphinx + Apidoc Demo"
      ]
    },
    {
      "cell_type": "markdown",
      "metadata": {
        "id": "_yyRceBVSSR1"
      },
      "source": [
        "Apidoc\n",
        "*   Extract docstring from Python code \n",
        "*   Create reStructureText with directives for autodoc\n",
        "*   Autodoc has to be enabled in conf.py\n",
        "\n",
        "\n",
        "For help : \"- sphinx-apidoc --help\"\n",
        "\n",
        "Use \"sphinx-apidoc --full -o docsFolder modulesFolder\" to create from scratch without sphinx-quickstart"
      ]
    },
    {
      "cell_type": "code",
      "metadata": {
        "colab": {
          "base_uri": "https://localhost:8080/"
        },
        "id": "NJZFnMSvKGHq",
        "outputId": "0d779594-1223-4445-ad20-7a1feef0de77"
      },
      "source": [
        "%%shell\n",
        "cd /content/drive/'My Drive'/'Colab Notebooks'/data/PythonCodeQuality/withDocstrings/docs\n",
        "sphinx-quickstart"
      ],
      "execution_count": null,
      "outputs": [
        {
          "output_type": "stream",
          "text": [
            "\u001b[01mWelcome to the Sphinx 1.8.5 quickstart utility.\u001b[39;49;00m\n",
            "\n",
            "Please enter values for the following settings (just press Enter to\n",
            "accept a default value, if one is given in brackets).\n",
            "\u001b[01m\n",
            "Selected root path: .\u001b[39;49;00m\n",
            "\n",
            "You have two options for placing the build directory for Sphinx output.\n",
            "Either, you use a directory \"_build\" within the root path, or you separate\n",
            "\"source\" and \"build\" directories within the root path.\n",
            "\u001b[35m> Separate source and build directories (y/n) [n]: \u001b[39;49;00m\n",
            "\n",
            "Inside the root directory, two more directories will be created; \"_templates\"\n",
            "for custom HTML templates and \"_static\" for custom stylesheets and other static\n",
            "files. You can enter another prefix (such as \".\") to replace the underscore.\n",
            "\u001b[35m> Name prefix for templates and static dir [_]: \u001b[39;49;00m\n",
            "\n",
            "The project name will occur in several places in the built documentation.\n",
            "\u001b[35m> Project name: \u001b[39;49;00mgamedemo\n",
            "\u001b[35m> Author name(s): \u001b[39;49;00mAlvinJJ\n",
            "\u001b[35m> Project release []: \u001b[39;49;00m0.1\n",
            "\n",
            "If the documents are to be written in a language other than English,\n",
            "you can select a language here by its language code. Sphinx will then\n",
            "translate text that it generates into that language.\n",
            "\n",
            "For a list of supported codes, see\n",
            "http://sphinx-doc.org/config.html#confval-language.\n",
            "\u001b[35m> Project language [en]: \u001b[39;49;00m\n",
            "\n",
            "The file name suffix for source files. Commonly, this is either \".txt\"\n",
            "or \".rst\".  Only files with this suffix are considered documents.\n",
            "\u001b[35m> Source file suffix [.rst]: \u001b[39;49;00m\n",
            "\n",
            "One document is special in that it is considered the top node of the\n",
            "\"contents tree\", that is, it is the root of the hierarchical structure\n",
            "of the documents. Normally, this is \"index\", but if your \"index\"\n",
            "document is a custom template, you can also set this to another filename.\n",
            "\u001b[35m> Name of your master document (without suffix) [index]: \u001b[39;49;00m\n",
            "Indicate which of the following Sphinx extensions should be enabled:\n",
            "\u001b[35m> autodoc: automatically insert docstrings from modules (y/n) [n]: \u001b[39;49;00m\n",
            "\u001b[35m> doctest: automatically test code snippets in doctest blocks (y/n) [n]: \u001b[39;49;00m\n",
            ": \u001b[39;49;00m\n",
            "\u001b[35m> todo: write \"todo\" entries that can be shown or hidden on build (y/n) [n]: \u001b[39;49;00m\n",
            "\u001b[35m> coverage: checks for documentation coverage (y/n) [n]: \u001b[39;49;00m\n",
            "\u001b[35m> imgmath: include math, rendered as PNG or SVG images (y/n) [n]: \u001b[39;49;00m\n",
            "\u001b[35m> mathjax: include math, rendered in the browser by MathJax (y/n) [n]: \u001b[39;49;00m\n",
            "\u001b[35m> ifconfig: conditional inclusion of content based on config values (y/n) [n]: \u001b[39;49;00m\n",
            "[n]: \u001b[39;49;00m\n",
            "n) [n]: \u001b[39;49;00m\n",
            "\n",
            "A Makefile and a Windows command file can be generated for you so that you\n",
            "only have to run e.g. `make html' instead of invoking sphinx-build\n",
            "directly.\n",
            "\u001b[35m> Create Makefile? (y/n) [y]: \u001b[39;49;00m\n",
            "\u001b[35m> Create Windows command file? (y/n) [y]: \u001b[39;49;00m\n",
            "\n",
            "Creating file ./conf.py.\n",
            "Creating file ./index.rst.\n",
            "Creating file ./Makefile.\n",
            "Creating file ./make.bat.\n",
            "\n",
            "\u001b[01mFinished: An initial directory structure has been created.\u001b[39;49;00m\n",
            "\n",
            "You should now populate your master file ./index.rst and create other documentation\n",
            "source files. Use the Makefile to build the docs, like so:\n",
            "   make builder\n",
            "where \"builder\" is one of the supported builders, e.g. html, latex or linkcheck.\n",
            "\n"
          ],
          "name": "stdout"
        },
        {
          "output_type": "execute_result",
          "data": {
            "text/plain": [
              ""
            ]
          },
          "metadata": {
            "tags": []
          },
          "execution_count": 49
        }
      ]
    },
    {
      "cell_type": "code",
      "metadata": {
        "colab": {
          "base_uri": "https://localhost:8080/"
        },
        "id": "qyzW290HLibm",
        "outputId": "8ef4327b-2f47-4504-86b4-e0d8363686d2"
      },
      "source": [
        "%%shell\n",
        "cd /content/drive/'My Drive'/'Colab Notebooks'/data/PythonCodeQuality/withDocstrings/\n",
        "sphinx-apidoc -o docs ./\n",
        "# -o : output folder"
      ],
      "execution_count": null,
      "outputs": [
        {
          "output_type": "stream",
          "text": [
            "\n",
            "\n",
            "\n",
            "Creating file docs/gamedemo.rst.\n",
            "Creating file docs/modules.rst.\n"
          ],
          "name": "stdout"
        },
        {
          "output_type": "execute_result",
          "data": {
            "text/plain": [
              ""
            ]
          },
          "metadata": {
            "tags": []
          },
          "execution_count": 50
        }
      ]
    },
    {
      "cell_type": "code",
      "metadata": {
        "id": "L4UGzCD8M3ud"
      },
      "source": [
        "# enable below in conf.py for apidoc\n",
        "\n",
        "# import os\n",
        "# import sys\n",
        "# sys.path.insert(0, os.path.abspath('.'))\n",
        "\n",
        "\n",
        "# Add extensions for auto module directive and view code in HTML\n",
        "\n",
        "# extensions = [\n",
        "#     'sphinx.ext.autodoc',\n",
        "#     'sphinx.ext.viewcode',\n",
        "# ]"
      ],
      "execution_count": null,
      "outputs": []
    },
    {
      "cell_type": "code",
      "metadata": {
        "colab": {
          "base_uri": "https://localhost:8080/"
        },
        "id": "roHlU09wONvd",
        "outputId": "2f7079f0-79d5-4b89-d3b0-5b322c286949"
      },
      "source": [
        "%%shell\n",
        "cd /content/drive/'My Drive'/'Colab Notebooks'/data/PythonCodeQuality/withDocstrings/docs\n",
        "make clean html\n",
        "# remove all previously generated HTML"
      ],
      "execution_count": null,
      "outputs": [
        {
          "output_type": "stream",
          "text": [
            "Removing everything under '_build'...\n",
            "\u001b[01mRunning Sphinx v1.8.5\u001b[39;49;00m\n",
            "making output directory...\n",
            "\u001b[01mbuilding [mo]: \u001b[39;49;00mtargets for 0 po files that are out of date\n",
            "\u001b[01mbuilding [html]\u001b[39;49;00m: targets for 3 source files that are out of date\n",
            "\u001b[01mupdating environment: \u001b[39;49;00m3 added, 0 changed, 0 removed\n",
            "\u001b[01mreading sources... \u001b[39;49;00m[100%] \u001b[35mmodules\u001b[39;49;00m\n",
            "\u001b[31;01mWARNING: autodoc: failed to import module u'game' from module u'gamedemo'; the following exception was raised:\n",
            "cannot import name ABC\u001b[39;49;00m\n",
            "\u001b[31;01mWARNING: autodoc: failed to import module u'weapons' from module u'gamedemo'; the following exception was raised:\n",
            "cannot import name ABC\u001b[39;49;00m\n",
            "\u001b[01mlooking for now-outdated files... \u001b[39;49;00mnone found\n",
            "\u001b[01mpickling environment... \u001b[39;49;00mdone\n",
            "\u001b[01mchecking consistency... \u001b[39;49;00m\u001b[31;01m/content/drive/My Drive/Colab Notebooks/data/PythonCodeQuality/withDocstrings/docs/modules.rst: WARNING: document isn't included in any toctree\u001b[39;49;00m\n",
            "done\n",
            "\u001b[01mpreparing documents... \u001b[39;49;00mdone\n",
            "\u001b[01mwriting output... \u001b[39;49;00m[100%] \u001b[32mmodules\u001b[39;49;00m\n",
            "\u001b[01mgenerating indices...\u001b[39;49;00m genindex py-modindex\n",
            "\u001b[01mhighlighting module code... \u001b[39;49;00m[100%] \u001b[34;01mgamedemo.player\u001b[39;49;00m\n",
            "\u001b[01mwriting additional pages...\u001b[39;49;00m search\n",
            "\u001b[01mcopying static files... \u001b[39;49;00mdone\n",
            "\u001b[01mcopying extra files... \u001b[39;49;00mdone\n",
            "\u001b[01mdumping search index in English (code: en) ... \u001b[39;49;00mdone\n",
            "\u001b[01mdumping object inventory... \u001b[39;49;00mdone\n",
            "\u001b[01mbuild succeeded, 3 warnings.\u001b[39;49;00m\n",
            "\n",
            "The HTML pages are in _build/html.\n"
          ],
          "name": "stdout"
        },
        {
          "output_type": "execute_result",
          "data": {
            "text/plain": [
              ""
            ]
          },
          "metadata": {
            "tags": []
          },
          "execution_count": 51
        }
      ]
    },
    {
      "cell_type": "markdown",
      "metadata": {
        "id": "jMxWi18BUAj4"
      },
      "source": [
        "# Type Hint - Code Maintainability"
      ]
    },
    {
      "cell_type": "code",
      "metadata": {
        "colab": {
          "base_uri": "https://localhost:8080/"
        },
        "id": "d0-AtUI-U_0m",
        "outputId": "d8166d73-88a5-4961-e974-13f1aaf49352"
      },
      "source": [
        "# Variable type error will be hinted in code instead of runtime\n",
        "\n",
        "def average(a: int,b: int,c:int) -> float:\n",
        "    return (a + b + c) / 3\n",
        "\n",
        "print(average(1,3,5))"
      ],
      "execution_count": null,
      "outputs": [
        {
          "output_type": "stream",
          "text": [
            "3.0\n"
          ],
          "name": "stdout"
        }
      ]
    },
    {
      "cell_type": "markdown",
      "metadata": {
        "id": "PwIeouHRYG_o"
      },
      "source": [
        "Type Checker on Type Hint\n",
        "\n",
        "*   PyCharm\n",
        "*   mypy (type checker on cmd)\n",
        "\n",
        "cheat sheet : https://mypy.readthedocs.io/en/stable/cheat_sheet_py3.html\n",
        "\n"
      ]
    },
    {
      "cell_type": "code",
      "metadata": {
        "id": "uDFSdkrHW9MD"
      },
      "source": [
        "# Also use type hint to create abstract method for inheritance \n",
        "\n",
        "##### Sample code #####\n",
        "\n",
        "from abc import ABC, abstractmethod\n",
        "from typing import Tuple\n",
        "\n",
        "class Weapon(ABC):\n",
        "    \"\"\"This abstract class defines the method :meth:`attack` that should be implemented\n",
        "    by subclasses.\n",
        "    \"\"\"\n",
        "\n",
        "    @abstractmethod\n",
        "    def attack(self) -> Tuple[int, str]:\n",
        "        \"\"\"This method should return a tuple (damage, text): how much damage was dealt\n",
        "        and what text to output. Text is a format string with placeholders for attacker\n",
        "        and defender.\n",
        "        \"\"\"\n",
        "\n",
        "\n",
        "class Sword(Weapon):\n",
        "    \"\"\"A primitive close-range weapon. It deals either 5 or 10 damage with a 50/50 chance.\n",
        "    \"\"\"\n",
        "\n",
        "    def attack(self) -> Tuple[int, str]:\n",
        "        return (\n",
        "            random.choice([10, 15]),\n",
        "            random.choice([\"Bam!\", \"Whack!\", \"Pow!\"])\n",
        "        )\n",
        "\n",
        "\n",
        "class FireBreath(Weapon):\n",
        "    \"\"\"FireBreath is a weapon only wielded by dragons or wizards. It can deal a lot of damage,\n",
        "    but it also has its drawbacks. There is a 30% chance that the attack will not work, and after\n",
        "    a successful attack you will need to wait a while before you will be able to breath fire again.\n",
        "    \"\"\"\n",
        "\n",
        "    def __init__(self) -> None:\n",
        "        # The number of attacks we will have to wait until we can fire again\n",
        "        self._cooldown: int = 0\n",
        "\n",
        "    def attack(self) -> Tuple[int, str]:\n",
        "        if self._cooldown <= 0:\n",
        "            dmg: int\n",
        "            sound: str\n",
        "            dmg = random.choice([0, 40])\n",
        "            if dmg > 0:\n",
        "                self._cooldown = 2\n",
        "                sound = \"Boom! Dragon Fire!\"\n",
        "            else:\n",
        "                sound = \"The dragon produces only smoke..\"\n",
        "            return dmg, sound\n",
        "        else:\n",
        "            self._cooldown -= 1\n",
        "            return (0, \"(waiting until it can breath fire again)\")\n"
      ],
      "execution_count": null,
      "outputs": []
    },
    {
      "cell_type": "markdown",
      "metadata": {
        "id": "oLjXDvSJZaog"
      },
      "source": [
        "## mypy Demo"
      ]
    },
    {
      "cell_type": "code",
      "metadata": {
        "colab": {
          "base_uri": "https://localhost:8080/"
        },
        "id": "PvaQXqWDZhXl",
        "outputId": "0dc5eace-a38d-4561-f15e-40b6fcfca114"
      },
      "source": [
        "from google.colab import drive\n",
        "drive.mount(\"/content/drive/\")"
      ],
      "execution_count": 2,
      "outputs": [
        {
          "output_type": "stream",
          "text": [
            "Mounted at /content/drive/\n"
          ],
          "name": "stdout"
        }
      ]
    },
    {
      "cell_type": "code",
      "metadata": {
        "colab": {
          "base_uri": "https://localhost:8080/"
        },
        "id": "F_ZbF5fUajzy",
        "outputId": "642247c9-d629-4fb6-cb2b-8e367ee568e8"
      },
      "source": [
        "!pip install mypy"
      ],
      "execution_count": 8,
      "outputs": [
        {
          "output_type": "stream",
          "text": [
            "Collecting mypy\n",
            "\u001b[?25l  Downloading https://files.pythonhosted.org/packages/e2/cb/cf5530d063e7e703e2fbec677bfba633de6e70fe44bc323deeaa27f273b8/mypy-0.790-cp36-cp36m-manylinux1_x86_64.whl (21.0MB)\n",
            "\u001b[K     |████████████████████████████████| 21.0MB 55.1MB/s \n",
            "\u001b[?25hCollecting mypy-extensions<0.5.0,>=0.4.3\n",
            "  Downloading https://files.pythonhosted.org/packages/5c/eb/975c7c080f3223a5cdaff09612f3a5221e4ba534f7039db34c35d95fa6a5/mypy_extensions-0.4.3-py2.py3-none-any.whl\n",
            "Requirement already satisfied: typing-extensions>=3.7.4 in /usr/local/lib/python3.6/dist-packages (from mypy) (3.7.4.3)\n",
            "Collecting typed-ast<1.5.0,>=1.4.0\n",
            "\u001b[?25l  Downloading https://files.pythonhosted.org/packages/90/ed/5459080d95eb87a02fe860d447197be63b6e2b5e9ff73c2b0a85622994f4/typed_ast-1.4.1-cp36-cp36m-manylinux1_x86_64.whl (737kB)\n",
            "\u001b[K     |████████████████████████████████| 747kB 43.2MB/s \n",
            "\u001b[?25hInstalling collected packages: mypy-extensions, typed-ast, mypy\n",
            "Successfully installed mypy-0.790 mypy-extensions-0.4.3 typed-ast-1.4.1\n"
          ],
          "name": "stdout"
        }
      ]
    },
    {
      "cell_type": "code",
      "metadata": {
        "colab": {
          "base_uri": "https://localhost:8080/",
          "height": 374
        },
        "id": "zLtzRI4nZc9z",
        "outputId": "811162a8-ea54-4d9a-ed41-1722d7011f14"
      },
      "source": [
        "%%shell\n",
        "cd /content/drive/'My Drive'/'Colab Notebooks'/data/PythonCodeQuality/withTypeHint/\n",
        "mypy gamedemo/\n",
        "\n",
        "# catch type error in value returned by method which isn't catched by PyCharm"
      ],
      "execution_count": 9,
      "outputs": [
        {
          "output_type": "stream",
          "text": [
            "gamedemo/weapons.py:53: \u001b[1m\u001b[31merror:\u001b[m Incompatible types in assignment (expression has type \u001b[m\u001b[1m\"float\"\u001b[m, variable has type \u001b[m\u001b[1m\"int\"\u001b[m)\u001b[m\n",
            "\u001b[1m\u001b[31mFound 1 error in 1 file (checked 4 source files)\u001b[m\n"
          ],
          "name": "stdout"
        },
        {
          "output_type": "error",
          "ename": "CalledProcessError",
          "evalue": "ignored",
          "traceback": [
            "\u001b[0;31m---------------------------------------------------------------------------\u001b[0m",
            "\u001b[0;31mCalledProcessError\u001b[0m                        Traceback (most recent call last)",
            "\u001b[0;32m<ipython-input-9-0246bf57c7ef>\u001b[0m in \u001b[0;36m<module>\u001b[0;34m()\u001b[0m\n\u001b[0;32m----> 1\u001b[0;31m \u001b[0mget_ipython\u001b[0m\u001b[0;34m(\u001b[0m\u001b[0;34m)\u001b[0m\u001b[0;34m.\u001b[0m\u001b[0mrun_cell_magic\u001b[0m\u001b[0;34m(\u001b[0m\u001b[0;34m'shell'\u001b[0m\u001b[0;34m,\u001b[0m \u001b[0;34m''\u001b[0m\u001b[0;34m,\u001b[0m \u001b[0;34m\"cd /content/drive/'My Drive'/'Colab Notebooks'/data/PythonCodeQuality/withTypeHint/\\nmypy gamedemo/\"\u001b[0m\u001b[0;34m)\u001b[0m\u001b[0;34m\u001b[0m\u001b[0;34m\u001b[0m\u001b[0m\n\u001b[0m",
            "\u001b[0;32m/usr/local/lib/python3.6/dist-packages/IPython/core/interactiveshell.py\u001b[0m in \u001b[0;36mrun_cell_magic\u001b[0;34m(self, magic_name, line, cell)\u001b[0m\n\u001b[1;32m   2115\u001b[0m             \u001b[0mmagic_arg_s\u001b[0m \u001b[0;34m=\u001b[0m \u001b[0mself\u001b[0m\u001b[0;34m.\u001b[0m\u001b[0mvar_expand\u001b[0m\u001b[0;34m(\u001b[0m\u001b[0mline\u001b[0m\u001b[0;34m,\u001b[0m \u001b[0mstack_depth\u001b[0m\u001b[0;34m)\u001b[0m\u001b[0;34m\u001b[0m\u001b[0;34m\u001b[0m\u001b[0m\n\u001b[1;32m   2116\u001b[0m             \u001b[0;32mwith\u001b[0m \u001b[0mself\u001b[0m\u001b[0;34m.\u001b[0m\u001b[0mbuiltin_trap\u001b[0m\u001b[0;34m:\u001b[0m\u001b[0;34m\u001b[0m\u001b[0;34m\u001b[0m\u001b[0m\n\u001b[0;32m-> 2117\u001b[0;31m                 \u001b[0mresult\u001b[0m \u001b[0;34m=\u001b[0m \u001b[0mfn\u001b[0m\u001b[0;34m(\u001b[0m\u001b[0mmagic_arg_s\u001b[0m\u001b[0;34m,\u001b[0m \u001b[0mcell\u001b[0m\u001b[0;34m)\u001b[0m\u001b[0;34m\u001b[0m\u001b[0;34m\u001b[0m\u001b[0m\n\u001b[0m\u001b[1;32m   2118\u001b[0m             \u001b[0;32mreturn\u001b[0m \u001b[0mresult\u001b[0m\u001b[0;34m\u001b[0m\u001b[0;34m\u001b[0m\u001b[0m\n\u001b[1;32m   2119\u001b[0m \u001b[0;34m\u001b[0m\u001b[0m\n",
            "\u001b[0;32m/usr/local/lib/python3.6/dist-packages/google/colab/_system_commands.py\u001b[0m in \u001b[0;36m_shell_cell_magic\u001b[0;34m(args, cmd)\u001b[0m\n\u001b[1;32m    110\u001b[0m   \u001b[0mresult\u001b[0m \u001b[0;34m=\u001b[0m \u001b[0m_run_command\u001b[0m\u001b[0;34m(\u001b[0m\u001b[0mcmd\u001b[0m\u001b[0;34m,\u001b[0m \u001b[0mclear_streamed_output\u001b[0m\u001b[0;34m=\u001b[0m\u001b[0;32mFalse\u001b[0m\u001b[0;34m)\u001b[0m\u001b[0;34m\u001b[0m\u001b[0;34m\u001b[0m\u001b[0m\n\u001b[1;32m    111\u001b[0m   \u001b[0;32mif\u001b[0m \u001b[0;32mnot\u001b[0m \u001b[0mparsed_args\u001b[0m\u001b[0;34m.\u001b[0m\u001b[0mignore_errors\u001b[0m\u001b[0;34m:\u001b[0m\u001b[0;34m\u001b[0m\u001b[0;34m\u001b[0m\u001b[0m\n\u001b[0;32m--> 112\u001b[0;31m     \u001b[0mresult\u001b[0m\u001b[0;34m.\u001b[0m\u001b[0mcheck_returncode\u001b[0m\u001b[0;34m(\u001b[0m\u001b[0;34m)\u001b[0m\u001b[0;34m\u001b[0m\u001b[0;34m\u001b[0m\u001b[0m\n\u001b[0m\u001b[1;32m    113\u001b[0m   \u001b[0;32mreturn\u001b[0m \u001b[0mresult\u001b[0m\u001b[0;34m\u001b[0m\u001b[0;34m\u001b[0m\u001b[0m\n\u001b[1;32m    114\u001b[0m \u001b[0;34m\u001b[0m\u001b[0m\n",
            "\u001b[0;32m/usr/local/lib/python3.6/dist-packages/google/colab/_system_commands.py\u001b[0m in \u001b[0;36mcheck_returncode\u001b[0;34m(self)\u001b[0m\n\u001b[1;32m    136\u001b[0m     \u001b[0;32mif\u001b[0m \u001b[0mself\u001b[0m\u001b[0;34m.\u001b[0m\u001b[0mreturncode\u001b[0m\u001b[0;34m:\u001b[0m\u001b[0;34m\u001b[0m\u001b[0;34m\u001b[0m\u001b[0m\n\u001b[1;32m    137\u001b[0m       raise subprocess.CalledProcessError(\n\u001b[0;32m--> 138\u001b[0;31m           returncode=self.returncode, cmd=self.args, output=self.output)\n\u001b[0m\u001b[1;32m    139\u001b[0m \u001b[0;34m\u001b[0m\u001b[0m\n\u001b[1;32m    140\u001b[0m   \u001b[0;32mdef\u001b[0m \u001b[0m_repr_pretty_\u001b[0m\u001b[0;34m(\u001b[0m\u001b[0mself\u001b[0m\u001b[0;34m,\u001b[0m \u001b[0mp\u001b[0m\u001b[0;34m,\u001b[0m \u001b[0mcycle\u001b[0m\u001b[0;34m)\u001b[0m\u001b[0;34m:\u001b[0m  \u001b[0;31m# pylint:disable=unused-argument\u001b[0m\u001b[0;34m\u001b[0m\u001b[0;34m\u001b[0m\u001b[0m\n",
            "\u001b[0;31mCalledProcessError\u001b[0m: Command 'cd /content/drive/'My Drive'/'Colab Notebooks'/data/PythonCodeQuality/withTypeHint/\nmypy gamedemo/' returned non-zero exit status 1."
          ]
        }
      ]
    }
  ]
}